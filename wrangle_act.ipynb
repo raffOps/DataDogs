{
 "cells": [
  {
   "cell_type": "markdown",
   "metadata": {
    "toc": true
   },
   "source": [
    "<h1>Table of Contents<span class=\"tocSkip\"></span></h1>\n",
    "<div class=\"toc\"><ul class=\"toc-item\"><li><span><a href=\"#Imports\" data-toc-modified-id=\"Imports-1\"><span class=\"toc-item-num\">1&nbsp;&nbsp;</span>Imports</a></span></li><li><span><a href=\"#Coleta\" data-toc-modified-id=\"Coleta-2\"><span class=\"toc-item-num\">2&nbsp;&nbsp;</span>Coleta</a></span><ul class=\"toc-item\"><li><span><a href=\"#Arquivo-csv-de-tweets\" data-toc-modified-id=\"Arquivo-csv-de-tweets-2.1\"><span class=\"toc-item-num\">2.1&nbsp;&nbsp;</span>Arquivo csv de tweets</a></span></li><li><span><a href=\"#Arquivo-csv-com-as-imagens-de-catioros\" data-toc-modified-id=\"Arquivo-csv-com-as-imagens-de-catioros-2.2\"><span class=\"toc-item-num\">2.2&nbsp;&nbsp;</span>Arquivo csv com as imagens de catioros</a></span></li><li><span><a href=\"#Extração-de-tweets\" data-toc-modified-id=\"Extração-de-tweets-2.3\"><span class=\"toc-item-num\">2.3&nbsp;&nbsp;</span>Extração de tweets</a></span></li><li><span><a href=\"#Salvamento-dos-tweets\" data-toc-modified-id=\"Salvamento-dos-tweets-2.4\"><span class=\"toc-item-num\">2.4&nbsp;&nbsp;</span>Salvamento dos tweets</a></span></li><li><span><a href=\"#Carregamento-dos-tweets\" data-toc-modified-id=\"Carregamento-dos-tweets-2.5\"><span class=\"toc-item-num\">2.5&nbsp;&nbsp;</span>Carregamento dos tweets</a></span></li></ul></li><li><span><a href=\"#Avaliação\" data-toc-modified-id=\"Avaliação-3\"><span class=\"toc-item-num\">3&nbsp;&nbsp;</span>Avaliação</a></span><ul class=\"toc-item\"><li><span><a href=\"#Qualidade\" data-toc-modified-id=\"Qualidade-3.1\"><span class=\"toc-item-num\">3.1&nbsp;&nbsp;</span>Qualidade</a></span><ul class=\"toc-item\"><li><span><a href=\"#Tabela-tweets_csv\" data-toc-modified-id=\"Tabela-tweets_csv-3.1.1\"><span class=\"toc-item-num\">3.1.1&nbsp;&nbsp;</span>Tabela <em>tweets_csv</em></a></span></li></ul></li><li><span><a href=\"#Arrumação\" data-toc-modified-id=\"Arrumação-3.2\"><span class=\"toc-item-num\">3.2&nbsp;&nbsp;</span>Arrumação</a></span><ul class=\"toc-item\"><li><span><a href=\"#Tabela-tweets_csv\" data-toc-modified-id=\"Tabela-tweets_csv-3.2.1\"><span class=\"toc-item-num\">3.2.1&nbsp;&nbsp;</span>Tabela <em>tweets_csv</em></a></span></li><li><span><a href=\"#Todas-as-tabelas\" data-toc-modified-id=\"Todas-as-tabelas-3.2.2\"><span class=\"toc-item-num\">3.2.2&nbsp;&nbsp;</span>Todas as tabelas</a></span></li></ul></li></ul></li><li><span><a href=\"#Limpeza\" data-toc-modified-id=\"Limpeza-4\"><span class=\"toc-item-num\">4&nbsp;&nbsp;</span>Limpeza</a></span><ul class=\"toc-item\"><li><span><a href=\"#Qualidade\" data-toc-modified-id=\"Qualidade-4.1\"><span class=\"toc-item-num\">4.1&nbsp;&nbsp;</span>Qualidade</a></span><ul class=\"toc-item\"><li><span><a href=\"#tweets_csv:-Variável-timestamp-com-o-formato-errado\" data-toc-modified-id=\"tweets_csv:-Variável-timestamp-com-o-formato-errado-4.1.1\"><span class=\"toc-item-num\">4.1.1&nbsp;&nbsp;</span><code>tweets_csv</code>: Variável <em>timestamp</em> com o formato errado</a></span><ul class=\"toc-item\"><li><span><a href=\"#Definição\" data-toc-modified-id=\"Definição-4.1.1.1\"><span class=\"toc-item-num\">4.1.1.1&nbsp;&nbsp;</span>Definição</a></span></li><li><span><a href=\"#Código\" data-toc-modified-id=\"Código-4.1.1.2\"><span class=\"toc-item-num\">4.1.1.2&nbsp;&nbsp;</span>Código</a></span></li><li><span><a href=\"#Teste\" data-toc-modified-id=\"Teste-4.1.1.3\"><span class=\"toc-item-num\">4.1.1.3&nbsp;&nbsp;</span>Teste</a></span></li></ul></li><li><span><a href=\"#tweets_csv:-tweet_id-está-com-formato-diferente-de-retweeted_status_user_id-e-retweeted_status_id\" data-toc-modified-id=\"tweets_csv:-tweet_id-está-com-formato-diferente-de-retweeted_status_user_id-e-retweeted_status_id-4.1.2\"><span class=\"toc-item-num\">4.1.2&nbsp;&nbsp;</span><code>tweets_csv</code>: tweet_id está com formato diferente de retweeted_status_user_id e retweeted_status_id</a></span><ul class=\"toc-item\"><li><span><a href=\"#Definição\" data-toc-modified-id=\"Definição-4.1.2.1\"><span class=\"toc-item-num\">4.1.2.1&nbsp;&nbsp;</span>Definição</a></span></li><li><span><a href=\"#Código\" data-toc-modified-id=\"Código-4.1.2.2\"><span class=\"toc-item-num\">4.1.2.2&nbsp;&nbsp;</span>Código</a></span></li><li><span><a href=\"#Teste\" data-toc-modified-id=\"Teste-4.1.2.3\"><span class=\"toc-item-num\">4.1.2.3&nbsp;&nbsp;</span>Teste</a></span></li></ul></li><li><span><a href=\"#tweets_csv:-name-possui-palavras-que-não-são-nomes-próprios---a,-an\" data-toc-modified-id=\"tweets_csv:-name-possui-palavras-que-não-são-nomes-próprios---a,-an-4.1.3\"><span class=\"toc-item-num\">4.1.3&nbsp;&nbsp;</span><code>tweets_csv</code>: <em>name</em> possui palavras que não são nomes próprios - a, an</a></span><ul class=\"toc-item\"><li><span><a href=\"#Definição\" data-toc-modified-id=\"Definição-4.1.3.1\"><span class=\"toc-item-num\">4.1.3.1&nbsp;&nbsp;</span>Definição</a></span></li><li><span><a href=\"#Código\" data-toc-modified-id=\"Código-4.1.3.2\"><span class=\"toc-item-num\">4.1.3.2&nbsp;&nbsp;</span>Código</a></span></li><li><span><a href=\"#Teste\" data-toc-modified-id=\"Teste-4.1.3.3\"><span class=\"toc-item-num\">4.1.3.3&nbsp;&nbsp;</span>Teste</a></span></li></ul></li><li><span><a href=\"#tweets_csv:-expanded_urls-com-dados-faltantes\" data-toc-modified-id=\"tweets_csv:-expanded_urls-com-dados-faltantes-4.1.4\"><span class=\"toc-item-num\">4.1.4&nbsp;&nbsp;</span><code>tweets_csv</code>: <em>expanded_urls</em> com dados faltantes</a></span><ul class=\"toc-item\"><li><span><a href=\"#Definição\" data-toc-modified-id=\"Definição-4.1.4.1\"><span class=\"toc-item-num\">4.1.4.1&nbsp;&nbsp;</span>Definição</a></span></li><li><span><a href=\"#Código\" data-toc-modified-id=\"Código-4.1.4.2\"><span class=\"toc-item-num\">4.1.4.2&nbsp;&nbsp;</span>Código</a></span></li><li><span><a href=\"#Teste\" data-toc-modified-id=\"Teste-4.1.4.3\"><span class=\"toc-item-num\">4.1.4.3&nbsp;&nbsp;</span>Teste</a></span></li></ul></li><li><span><a href=\"#tweets_csv:-expanded_urls-está-com-os-valores-invalidos\" data-toc-modified-id=\"tweets_csv:-expanded_urls-está-com-os-valores-invalidos-4.1.5\"><span class=\"toc-item-num\">4.1.5&nbsp;&nbsp;</span><code>tweets_csv</code>: <em>expanded_urls</em> está com os valores invalidos</a></span><ul class=\"toc-item\"><li><span><a href=\"#Definição\" data-toc-modified-id=\"Definição-4.1.5.1\"><span class=\"toc-item-num\">4.1.5.1&nbsp;&nbsp;</span>Definição</a></span></li><li><span><a href=\"#Código\" data-toc-modified-id=\"Código-4.1.5.2\"><span class=\"toc-item-num\">4.1.5.2&nbsp;&nbsp;</span>Código</a></span></li><li><span><a href=\"#Teste\" data-toc-modified-id=\"Teste-4.1.5.3\"><span class=\"toc-item-num\">4.1.5.3&nbsp;&nbsp;</span>Teste</a></span></li></ul></li><li><span><a href=\"#tweets_csv:-retweeted_status_timestamp-está-com-dados-inválidos\" data-toc-modified-id=\"tweets_csv:-retweeted_status_timestamp-está-com-dados-inválidos-4.1.6\"><span class=\"toc-item-num\">4.1.6&nbsp;&nbsp;</span><code>tweets_csv</code>: <em>retweeted_status_timestamp</em> está com dados inválidos</a></span><ul class=\"toc-item\"><li><span><a href=\"#Definição\" data-toc-modified-id=\"Definição-4.1.6.1\"><span class=\"toc-item-num\">4.1.6.1&nbsp;&nbsp;</span>Definição</a></span></li><li><span><a href=\"#Código\" data-toc-modified-id=\"Código-4.1.6.2\"><span class=\"toc-item-num\">4.1.6.2&nbsp;&nbsp;</span>Código</a></span></li><li><span><a href=\"#Teste\" data-toc-modified-id=\"Teste-4.1.6.3\"><span class=\"toc-item-num\">4.1.6.3&nbsp;&nbsp;</span>Teste</a></span></li></ul></li></ul></li><li><span><a href=\"#Arrumação\" data-toc-modified-id=\"Arrumação-4.2\"><span class=\"toc-item-num\">4.2&nbsp;&nbsp;</span>Arrumação</a></span><ul class=\"toc-item\"><li><span><a href=\"#tweets_csv:-Retirar-as-colunas-doggo,-floofer,-pupper-e-puppo\" data-toc-modified-id=\"tweets_csv:-Retirar-as-colunas-doggo,-floofer,-pupper-e-puppo-4.2.1\"><span class=\"toc-item-num\">4.2.1&nbsp;&nbsp;</span><code>tweets_csv</code>: Retirar as colunas doggo, floofer, pupper e puppo</a></span><ul class=\"toc-item\"><li><span><a href=\"#Definição\" data-toc-modified-id=\"Definição-4.2.1.1\"><span class=\"toc-item-num\">4.2.1.1&nbsp;&nbsp;</span>Definição</a></span></li><li><span><a href=\"#Código\" data-toc-modified-id=\"Código-4.2.1.2\"><span class=\"toc-item-num\">4.2.1.2&nbsp;&nbsp;</span>Código</a></span></li><li><span><a href=\"#Teste\" data-toc-modified-id=\"Teste-4.2.1.3\"><span class=\"toc-item-num\">4.2.1.3&nbsp;&nbsp;</span>Teste</a></span></li></ul></li><li><span><a href=\"#todas-as-tabelas:-Juntar-as-3-tabelas-em-uma-só.\" data-toc-modified-id=\"todas-as-tabelas:-Juntar-as-3-tabelas-em-uma-só.-4.2.2\"><span class=\"toc-item-num\">4.2.2&nbsp;&nbsp;</span><code>todas as tabelas</code>: Juntar as 3 tabelas em uma só.</a></span><ul class=\"toc-item\"><li><span><a href=\"#Definição\" data-toc-modified-id=\"Definição-4.2.2.1\"><span class=\"toc-item-num\">4.2.2.1&nbsp;&nbsp;</span>Definição</a></span></li><li><span><a href=\"#Código\" data-toc-modified-id=\"Código-4.2.2.2\"><span class=\"toc-item-num\">4.2.2.2&nbsp;&nbsp;</span>Código</a></span></li><li><span><a href=\"#Teste\" data-toc-modified-id=\"Teste-4.2.2.3\"><span class=\"toc-item-num\">4.2.2.3&nbsp;&nbsp;</span>Teste</a></span></li></ul></li></ul></li></ul></li></ul></div>"
   ]
  },
  {
   "cell_type": "markdown",
   "metadata": {},
   "source": [
    "# Imports"
   ]
  },
  {
   "cell_type": "code",
   "execution_count": 1,
   "metadata": {
    "ExecuteTime": {
     "end_time": "2019-02-18T00:58:15.735628Z",
     "start_time": "2019-02-18T00:58:15.412000Z"
    }
   },
   "outputs": [],
   "source": [
    "import pandas as pd\n",
    "import requests as req\n",
    "import json\n",
    "import tweepy\n",
    "import re"
   ]
  },
  {
   "cell_type": "markdown",
   "metadata": {},
   "source": [
    "# Coleta"
   ]
  },
  {
   "cell_type": "markdown",
   "metadata": {},
   "source": [
    "## Arquivo csv de tweets"
   ]
  },
  {
   "cell_type": "code",
   "execution_count": 2,
   "metadata": {
    "ExecuteTime": {
     "end_time": "2019-02-18T00:58:15.760225Z",
     "start_time": "2019-02-18T00:58:15.738001Z"
    }
   },
   "outputs": [],
   "source": [
    "tweets_csv = pd.read_csv(\"twitter-archive-enhanced.csv\")"
   ]
  },
  {
   "cell_type": "markdown",
   "metadata": {},
   "source": [
    "## Arquivo csv com as imagens de catioros"
   ]
  },
  {
   "cell_type": "code",
   "execution_count": 3,
   "metadata": {
    "ExecuteTime": {
     "end_time": "2019-02-18T00:58:16.529247Z",
     "start_time": "2019-02-18T00:58:15.762259Z"
    }
   },
   "outputs": [],
   "source": [
    "url_imagens = \"https://d17h27t6h515a5.cloudfront.net/topher/2017/August/599fd2ad_image-predictions/image-predictions.tsv\"\n",
    "imagens = pd.read_csv(url_imagens, sep='\\t')"
   ]
  },
  {
   "cell_type": "markdown",
   "metadata": {},
   "source": [
    "## Extração de tweets"
   ]
  },
  {
   "cell_type": "code",
   "execution_count": 44,
   "metadata": {
    "ExecuteTime": {
     "end_time": "2019-02-18T01:15:54.082391Z",
     "start_time": "2019-02-18T01:15:54.076278Z"
    }
   },
   "outputs": [],
   "source": [
    "with open(\"keys.json\") as file: ## https://developer.twitter.com/en/docs/basics/developer-portal/overview\n",
    "    credenciais = json.load(file)"
   ]
  },
  {
   "cell_type": "code",
   "execution_count": 5,
   "metadata": {
    "ExecuteTime": {
     "end_time": "2019-02-18T00:58:16.579383Z",
     "start_time": "2019-02-18T00:58:16.540498Z"
    }
   },
   "outputs": [],
   "source": [
    "tweepy.api.wait_on_rate_limit = True\n",
    "tweepy.api.wait_on_rate_limit_notify = True\n",
    "consumer_key = credenciais[\"consumer_key\"]\n",
    "consumer_secret = credenciais[\"consumer_secret\"]\n",
    "access_token = credenciais[\"access_token\"]\n",
    "access_token_secret = credenciais[\"access_token_secret\"]\n",
    "auth = tweepy.OAuthHandler(consumer_key, consumer_secret)\n",
    "auth.set_access_token(access_token, access_token_secret)\n",
    "api = tweepy.API(auth)"
   ]
  },
  {
   "cell_type": "code",
   "execution_count": 6,
   "metadata": {
    "ExecuteTime": {
     "end_time": "2019-02-18T00:58:16.601926Z",
     "start_time": "2019-02-18T00:58:16.581033Z"
    },
    "scrolled": true
   },
   "outputs": [],
   "source": [
    "# tweets_json = []\n",
    "# for id_tweet in tweets_csv.tweet_id:\n",
    "#     try:\n",
    "#         tweet = api.get_status(id_tweet, tweet_mode='extended')._json\n",
    "#         print(tweet)\n",
    "#         tweets_json.append(tweet)\n",
    "#     except tweepy.TweepError:\n",
    "#         continue"
   ]
  },
  {
   "cell_type": "markdown",
   "metadata": {},
   "source": [
    "## Salvamento dos tweets"
   ]
  },
  {
   "cell_type": "markdown",
   "metadata": {},
   "source": [
    "A especifição do projeto fala para o arquivo ser guardado no formato .txt, com os dados de cada tweet sendo escrido em um linha. Eu optei por manter o formato .json "
   ]
  },
  {
   "cell_type": "code",
   "execution_count": 7,
   "metadata": {
    "ExecuteTime": {
     "end_time": "2019-02-18T00:58:16.623630Z",
     "start_time": "2019-02-18T00:58:16.603517Z"
    }
   },
   "outputs": [],
   "source": [
    "# with open(\"tweets.json\",\"w\") as file:\n",
    "#     json.dump(tweets_json, file)"
   ]
  },
  {
   "cell_type": "markdown",
   "metadata": {},
   "source": [
    "## Carregamento dos tweets"
   ]
  },
  {
   "cell_type": "code",
   "execution_count": 8,
   "metadata": {
    "ExecuteTime": {
     "end_time": "2019-02-18T00:58:17.115572Z",
     "start_time": "2019-02-18T00:58:16.624851Z"
    }
   },
   "outputs": [],
   "source": [
    "tweets_json = pd.read_json(\"tweets.json\")[[\"id\",\"created_at\",\"favorite_count\",\"retweet_count\"]]"
   ]
  },
  {
   "cell_type": "code",
   "execution_count": 9,
   "metadata": {
    "ExecuteTime": {
     "end_time": "2019-02-18T00:58:17.138203Z",
     "start_time": "2019-02-18T00:58:17.117060Z"
    }
   },
   "outputs": [
    {
     "data": {
      "text/html": [
       "<div>\n",
       "<style scoped>\n",
       "    .dataframe tbody tr th:only-of-type {\n",
       "        vertical-align: middle;\n",
       "    }\n",
       "\n",
       "    .dataframe tbody tr th {\n",
       "        vertical-align: top;\n",
       "    }\n",
       "\n",
       "    .dataframe thead th {\n",
       "        text-align: right;\n",
       "    }\n",
       "</style>\n",
       "<table border=\"1\" class=\"dataframe\">\n",
       "  <thead>\n",
       "    <tr style=\"text-align: right;\">\n",
       "      <th></th>\n",
       "      <th>id</th>\n",
       "      <th>created_at</th>\n",
       "      <th>favorite_count</th>\n",
       "      <th>retweet_count</th>\n",
       "    </tr>\n",
       "  </thead>\n",
       "  <tbody>\n",
       "    <tr>\n",
       "      <th>0</th>\n",
       "      <td>892420643555336193</td>\n",
       "      <td>2017-08-01 16:23:56</td>\n",
       "      <td>38055</td>\n",
       "      <td>8323</td>\n",
       "    </tr>\n",
       "    <tr>\n",
       "      <th>1</th>\n",
       "      <td>892177421306343426</td>\n",
       "      <td>2017-08-01 00:17:27</td>\n",
       "      <td>32672</td>\n",
       "      <td>6150</td>\n",
       "    </tr>\n",
       "    <tr>\n",
       "      <th>2</th>\n",
       "      <td>891815181378084864</td>\n",
       "      <td>2017-07-31 00:18:03</td>\n",
       "      <td>24584</td>\n",
       "      <td>4068</td>\n",
       "    </tr>\n",
       "    <tr>\n",
       "      <th>3</th>\n",
       "      <td>891689557279858688</td>\n",
       "      <td>2017-07-30 15:58:51</td>\n",
       "      <td>41411</td>\n",
       "      <td>8470</td>\n",
       "    </tr>\n",
       "    <tr>\n",
       "      <th>4</th>\n",
       "      <td>891327558926688256</td>\n",
       "      <td>2017-07-29 16:00:24</td>\n",
       "      <td>39585</td>\n",
       "      <td>9165</td>\n",
       "    </tr>\n",
       "  </tbody>\n",
       "</table>\n",
       "</div>"
      ],
      "text/plain": [
       "                   id          created_at  favorite_count  retweet_count\n",
       "0  892420643555336193 2017-08-01 16:23:56           38055           8323\n",
       "1  892177421306343426 2017-08-01 00:17:27           32672           6150\n",
       "2  891815181378084864 2017-07-31 00:18:03           24584           4068\n",
       "3  891689557279858688 2017-07-30 15:58:51           41411           8470\n",
       "4  891327558926688256 2017-07-29 16:00:24           39585           9165"
      ]
     },
     "execution_count": 9,
     "metadata": {},
     "output_type": "execute_result"
    }
   ],
   "source": [
    "tweets_json.head()"
   ]
  },
  {
   "cell_type": "markdown",
   "metadata": {},
   "source": [
    "# Avaliação"
   ]
  },
  {
   "cell_type": "code",
   "execution_count": 10,
   "metadata": {
    "ExecuteTime": {
     "end_time": "2019-02-18T00:58:17.164567Z",
     "start_time": "2019-02-18T00:58:17.139494Z"
    }
   },
   "outputs": [
    {
     "name": "stdout",
     "output_type": "stream",
     "text": [
      "<class 'pandas.core.frame.DataFrame'>\n",
      "RangeIndex: 2356 entries, 0 to 2355\n",
      "Data columns (total 17 columns):\n",
      "tweet_id                      2356 non-null int64\n",
      "in_reply_to_status_id         78 non-null float64\n",
      "in_reply_to_user_id           78 non-null float64\n",
      "timestamp                     2356 non-null object\n",
      "source                        2356 non-null object\n",
      "text                          2356 non-null object\n",
      "retweeted_status_id           181 non-null float64\n",
      "retweeted_status_user_id      181 non-null float64\n",
      "retweeted_status_timestamp    181 non-null object\n",
      "expanded_urls                 2297 non-null object\n",
      "rating_numerator              2356 non-null int64\n",
      "rating_denominator            2356 non-null int64\n",
      "name                          2356 non-null object\n",
      "doggo                         2356 non-null object\n",
      "floofer                       2356 non-null object\n",
      "pupper                        2356 non-null object\n",
      "puppo                         2356 non-null object\n",
      "dtypes: float64(4), int64(3), object(10)\n",
      "memory usage: 313.0+ KB\n"
     ]
    }
   ],
   "source": [
    "tweets_csv.info()"
   ]
  },
  {
   "cell_type": "code",
   "execution_count": 11,
   "metadata": {
    "ExecuteTime": {
     "end_time": "2019-02-18T00:58:17.194384Z",
     "start_time": "2019-02-18T00:58:17.166885Z"
    }
   },
   "outputs": [
    {
     "data": {
      "text/html": [
       "<div>\n",
       "<style scoped>\n",
       "    .dataframe tbody tr th:only-of-type {\n",
       "        vertical-align: middle;\n",
       "    }\n",
       "\n",
       "    .dataframe tbody tr th {\n",
       "        vertical-align: top;\n",
       "    }\n",
       "\n",
       "    .dataframe thead th {\n",
       "        text-align: right;\n",
       "    }\n",
       "</style>\n",
       "<table border=\"1\" class=\"dataframe\">\n",
       "  <thead>\n",
       "    <tr style=\"text-align: right;\">\n",
       "      <th></th>\n",
       "      <th>tweet_id</th>\n",
       "      <th>in_reply_to_status_id</th>\n",
       "      <th>in_reply_to_user_id</th>\n",
       "      <th>timestamp</th>\n",
       "      <th>source</th>\n",
       "      <th>text</th>\n",
       "      <th>retweeted_status_id</th>\n",
       "      <th>retweeted_status_user_id</th>\n",
       "      <th>retweeted_status_timestamp</th>\n",
       "      <th>expanded_urls</th>\n",
       "      <th>rating_numerator</th>\n",
       "      <th>rating_denominator</th>\n",
       "      <th>name</th>\n",
       "      <th>doggo</th>\n",
       "      <th>floofer</th>\n",
       "      <th>pupper</th>\n",
       "      <th>puppo</th>\n",
       "    </tr>\n",
       "  </thead>\n",
       "  <tbody>\n",
       "    <tr>\n",
       "      <th>0</th>\n",
       "      <td>892420643555336193</td>\n",
       "      <td>NaN</td>\n",
       "      <td>NaN</td>\n",
       "      <td>2017-08-01 16:23:56 +0000</td>\n",
       "      <td>&lt;a href=\"http://twitter.com/download/iphone\" r...</td>\n",
       "      <td>This is Phineas. He's a mystical boy. Only eve...</td>\n",
       "      <td>NaN</td>\n",
       "      <td>NaN</td>\n",
       "      <td>NaN</td>\n",
       "      <td>https://twitter.com/dog_rates/status/892420643...</td>\n",
       "      <td>13</td>\n",
       "      <td>10</td>\n",
       "      <td>Phineas</td>\n",
       "      <td>None</td>\n",
       "      <td>None</td>\n",
       "      <td>None</td>\n",
       "      <td>None</td>\n",
       "    </tr>\n",
       "    <tr>\n",
       "      <th>1</th>\n",
       "      <td>892177421306343426</td>\n",
       "      <td>NaN</td>\n",
       "      <td>NaN</td>\n",
       "      <td>2017-08-01 00:17:27 +0000</td>\n",
       "      <td>&lt;a href=\"http://twitter.com/download/iphone\" r...</td>\n",
       "      <td>This is Tilly. She's just checking pup on you....</td>\n",
       "      <td>NaN</td>\n",
       "      <td>NaN</td>\n",
       "      <td>NaN</td>\n",
       "      <td>https://twitter.com/dog_rates/status/892177421...</td>\n",
       "      <td>13</td>\n",
       "      <td>10</td>\n",
       "      <td>Tilly</td>\n",
       "      <td>None</td>\n",
       "      <td>None</td>\n",
       "      <td>None</td>\n",
       "      <td>None</td>\n",
       "    </tr>\n",
       "    <tr>\n",
       "      <th>2</th>\n",
       "      <td>891815181378084864</td>\n",
       "      <td>NaN</td>\n",
       "      <td>NaN</td>\n",
       "      <td>2017-07-31 00:18:03 +0000</td>\n",
       "      <td>&lt;a href=\"http://twitter.com/download/iphone\" r...</td>\n",
       "      <td>This is Archie. He is a rare Norwegian Pouncin...</td>\n",
       "      <td>NaN</td>\n",
       "      <td>NaN</td>\n",
       "      <td>NaN</td>\n",
       "      <td>https://twitter.com/dog_rates/status/891815181...</td>\n",
       "      <td>12</td>\n",
       "      <td>10</td>\n",
       "      <td>Archie</td>\n",
       "      <td>None</td>\n",
       "      <td>None</td>\n",
       "      <td>None</td>\n",
       "      <td>None</td>\n",
       "    </tr>\n",
       "    <tr>\n",
       "      <th>3</th>\n",
       "      <td>891689557279858688</td>\n",
       "      <td>NaN</td>\n",
       "      <td>NaN</td>\n",
       "      <td>2017-07-30 15:58:51 +0000</td>\n",
       "      <td>&lt;a href=\"http://twitter.com/download/iphone\" r...</td>\n",
       "      <td>This is Darla. She commenced a snooze mid meal...</td>\n",
       "      <td>NaN</td>\n",
       "      <td>NaN</td>\n",
       "      <td>NaN</td>\n",
       "      <td>https://twitter.com/dog_rates/status/891689557...</td>\n",
       "      <td>13</td>\n",
       "      <td>10</td>\n",
       "      <td>Darla</td>\n",
       "      <td>None</td>\n",
       "      <td>None</td>\n",
       "      <td>None</td>\n",
       "      <td>None</td>\n",
       "    </tr>\n",
       "    <tr>\n",
       "      <th>4</th>\n",
       "      <td>891327558926688256</td>\n",
       "      <td>NaN</td>\n",
       "      <td>NaN</td>\n",
       "      <td>2017-07-29 16:00:24 +0000</td>\n",
       "      <td>&lt;a href=\"http://twitter.com/download/iphone\" r...</td>\n",
       "      <td>This is Franklin. He would like you to stop ca...</td>\n",
       "      <td>NaN</td>\n",
       "      <td>NaN</td>\n",
       "      <td>NaN</td>\n",
       "      <td>https://twitter.com/dog_rates/status/891327558...</td>\n",
       "      <td>12</td>\n",
       "      <td>10</td>\n",
       "      <td>Franklin</td>\n",
       "      <td>None</td>\n",
       "      <td>None</td>\n",
       "      <td>None</td>\n",
       "      <td>None</td>\n",
       "    </tr>\n",
       "  </tbody>\n",
       "</table>\n",
       "</div>"
      ],
      "text/plain": [
       "             tweet_id  in_reply_to_status_id  in_reply_to_user_id  \\\n",
       "0  892420643555336193                    NaN                  NaN   \n",
       "1  892177421306343426                    NaN                  NaN   \n",
       "2  891815181378084864                    NaN                  NaN   \n",
       "3  891689557279858688                    NaN                  NaN   \n",
       "4  891327558926688256                    NaN                  NaN   \n",
       "\n",
       "                   timestamp  \\\n",
       "0  2017-08-01 16:23:56 +0000   \n",
       "1  2017-08-01 00:17:27 +0000   \n",
       "2  2017-07-31 00:18:03 +0000   \n",
       "3  2017-07-30 15:58:51 +0000   \n",
       "4  2017-07-29 16:00:24 +0000   \n",
       "\n",
       "                                              source  \\\n",
       "0  <a href=\"http://twitter.com/download/iphone\" r...   \n",
       "1  <a href=\"http://twitter.com/download/iphone\" r...   \n",
       "2  <a href=\"http://twitter.com/download/iphone\" r...   \n",
       "3  <a href=\"http://twitter.com/download/iphone\" r...   \n",
       "4  <a href=\"http://twitter.com/download/iphone\" r...   \n",
       "\n",
       "                                                text  retweeted_status_id  \\\n",
       "0  This is Phineas. He's a mystical boy. Only eve...                  NaN   \n",
       "1  This is Tilly. She's just checking pup on you....                  NaN   \n",
       "2  This is Archie. He is a rare Norwegian Pouncin...                  NaN   \n",
       "3  This is Darla. She commenced a snooze mid meal...                  NaN   \n",
       "4  This is Franklin. He would like you to stop ca...                  NaN   \n",
       "\n",
       "   retweeted_status_user_id retweeted_status_timestamp  \\\n",
       "0                       NaN                        NaN   \n",
       "1                       NaN                        NaN   \n",
       "2                       NaN                        NaN   \n",
       "3                       NaN                        NaN   \n",
       "4                       NaN                        NaN   \n",
       "\n",
       "                                       expanded_urls  rating_numerator  \\\n",
       "0  https://twitter.com/dog_rates/status/892420643...                13   \n",
       "1  https://twitter.com/dog_rates/status/892177421...                13   \n",
       "2  https://twitter.com/dog_rates/status/891815181...                12   \n",
       "3  https://twitter.com/dog_rates/status/891689557...                13   \n",
       "4  https://twitter.com/dog_rates/status/891327558...                12   \n",
       "\n",
       "   rating_denominator      name doggo floofer pupper puppo  \n",
       "0                  10   Phineas  None    None   None  None  \n",
       "1                  10     Tilly  None    None   None  None  \n",
       "2                  10    Archie  None    None   None  None  \n",
       "3                  10     Darla  None    None   None  None  \n",
       "4                  10  Franklin  None    None   None  None  "
      ]
     },
     "execution_count": 11,
     "metadata": {},
     "output_type": "execute_result"
    }
   ],
   "source": [
    "tweets_csv.head()"
   ]
  },
  {
   "cell_type": "code",
   "execution_count": 12,
   "metadata": {
    "ExecuteTime": {
     "end_time": "2019-02-18T00:58:17.218587Z",
     "start_time": "2019-02-18T00:58:17.195729Z"
    }
   },
   "outputs": [
    {
     "data": {
      "text/plain": [
       "None       745\n",
       "a           55\n",
       "Charlie     12\n",
       "Cooper      11\n",
       "Oliver      11\n",
       "Lucy        11\n",
       "Penny       10\n",
       "Lola        10\n",
       "Tucker      10\n",
       "Winston      9\n",
       "Bo           9\n",
       "Sadie        8\n",
       "the          8\n",
       "Buddy        7\n",
       "Toby         7\n",
       "an           7\n",
       "Daisy        7\n",
       "Bailey       7\n",
       "Oscar        6\n",
       "Leo          6\n",
       "Name: name, dtype: int64"
      ]
     },
     "execution_count": 12,
     "metadata": {},
     "output_type": "execute_result"
    }
   ],
   "source": [
    "tweets_csv.name.value_counts()[:20]"
   ]
  },
  {
   "cell_type": "code",
   "execution_count": 13,
   "metadata": {
    "ExecuteTime": {
     "end_time": "2019-02-18T00:58:17.239394Z",
     "start_time": "2019-02-18T00:58:17.219963Z"
    }
   },
   "outputs": [
    {
     "data": {
      "text/plain": [
       "'https://twitter.com/dog_rates/status/891327558926688256/photo/1,https://twitter.com/dog_rates/status/891327558926688256/photo/1'"
      ]
     },
     "execution_count": 13,
     "metadata": {},
     "output_type": "execute_result"
    }
   ],
   "source": [
    "tweets_csv.expanded_urls[4]"
   ]
  },
  {
   "cell_type": "code",
   "execution_count": 14,
   "metadata": {
    "ExecuteTime": {
     "end_time": "2019-02-18T00:58:17.266473Z",
     "start_time": "2019-02-18T00:58:17.241505Z"
    }
   },
   "outputs": [
    {
     "data": {
      "text/plain": [
       "array([nan, nan, nan, nan, True, nan, nan, nan, nan, nan], dtype=object)"
      ]
     },
     "execution_count": 14,
     "metadata": {},
     "output_type": "execute_result"
    }
   ],
   "source": [
    "tweets_csv.retweeted_status_timestamp.str.contains(\"[a-zA-Z]*\").values[15:25]"
   ]
  },
  {
   "cell_type": "code",
   "execution_count": 15,
   "metadata": {
    "ExecuteTime": {
     "end_time": "2019-02-18T00:58:17.299461Z",
     "start_time": "2019-02-18T00:58:17.267843Z"
    }
   },
   "outputs": [
    {
     "data": {
      "text/plain": [
       "tweet_id                                                     883482846933004288\n",
       "in_reply_to_status_id                                                       NaN\n",
       "in_reply_to_user_id                                                         NaN\n",
       "timestamp                                             2017-07-08 00:28:19 +0000\n",
       "source                        <a href=\"http://twitter.com/download/iphone\" r...\n",
       "text                          This is Bella. She hopes her smile made you sm...\n",
       "retweeted_status_id                                                         NaN\n",
       "retweeted_status_user_id                                                    NaN\n",
       "retweeted_status_timestamp                                                  NaN\n",
       "expanded_urls                 https://twitter.com/dog_rates/status/883482846...\n",
       "rating_numerator                                                              5\n",
       "rating_denominator                                                           10\n",
       "name                                                                      Bella\n",
       "doggo                                                                      None\n",
       "floofer                                                                    None\n",
       "pupper                                                                     None\n",
       "puppo                                                                      None\n",
       "Name: 45, dtype: object"
      ]
     },
     "execution_count": 15,
     "metadata": {},
     "output_type": "execute_result"
    }
   ],
   "source": [
    "tweets_csv[tweets_csv.rating_numerator < 10].iloc[0]"
   ]
  },
  {
   "cell_type": "code",
   "execution_count": 16,
   "metadata": {
    "ExecuteTime": {
     "end_time": "2019-02-18T00:58:17.332000Z",
     "start_time": "2019-02-18T00:58:17.303531Z"
    }
   },
   "outputs": [
    {
     "data": {
      "text/plain": [
       "tweet_id                                                     835152434251116546\n",
       "in_reply_to_status_id                                                       NaN\n",
       "in_reply_to_user_id                                                         NaN\n",
       "timestamp                                             2017-02-24 15:40:31 +0000\n",
       "source                        <a href=\"http://twitter.com/download/iphone\" r...\n",
       "text                          When you're so blinded by your systematic plag...\n",
       "retweeted_status_id                                                         NaN\n",
       "retweeted_status_user_id                                                    NaN\n",
       "retweeted_status_timestamp                                                  NaN\n",
       "expanded_urls                 https://twitter.com/dog_rates/status/835152434...\n",
       "rating_numerator                                                              0\n",
       "rating_denominator                                                           10\n",
       "name                                                                       None\n",
       "doggo                                                                      None\n",
       "floofer                                                                    None\n",
       "pupper                                                                     None\n",
       "puppo                                                                      None\n",
       "Name: 315, dtype: object"
      ]
     },
     "execution_count": 16,
     "metadata": {},
     "output_type": "execute_result"
    }
   ],
   "source": [
    "tweets_csv.sort_values(by=\"rating_numerator\").iloc[0]"
   ]
  },
  {
   "cell_type": "code",
   "execution_count": 17,
   "metadata": {
    "ExecuteTime": {
     "end_time": "2019-02-18T00:58:17.353554Z",
     "start_time": "2019-02-18T00:58:17.335632Z"
    }
   },
   "outputs": [
    {
     "data": {
      "text/plain": [
       "\"@jonnysun @Lin_Manuel ok jomny I know you're excited but 960/00 isn't a valid rating, 13/10 is tho\""
      ]
     },
     "execution_count": 17,
     "metadata": {},
     "output_type": "execute_result"
    }
   ],
   "source": [
    "tweets_csv[tweets_csv.rating_denominator != 10].head(3).iloc[0][5]"
   ]
  },
  {
   "cell_type": "markdown",
   "metadata": {},
   "source": [
    "## Qualidade \n",
    "### Tabela *tweets_csv*\n",
    "\n",
    "- *timestamp* com o formato errado\n",
    "- *tweet_id* está com formato diferente de *retweeted_status_user_id* e *retweeted_status_id*\n",
    "- *name* possui palavras que não são nome próprios - a, an \n",
    "- *expanded_urls* está com os valores invalidos\n",
    "- *expanded_urls* com dados faltantes\n",
    "- *retweeted_status_timestamp* está com dados inválidos\n",
    "- *rating_numerator* com valores inválidos\n",
    "- *rating_denominator* com valores inválidos\n",
    "\n",
    "## Arrumação\n",
    "### Tabela *tweets_csv*\n",
    "- Variáveis como nome de colunas\n",
    "\n",
    "### Todas as tabelas\n",
    "- Uma mesma unidade observacional separada em 3 tabelas"
   ]
  },
  {
   "cell_type": "markdown",
   "metadata": {},
   "source": [
    "# Limpeza"
   ]
  },
  {
   "cell_type": "markdown",
   "metadata": {},
   "source": [
    "## Qualidade"
   ]
  },
  {
   "cell_type": "markdown",
   "metadata": {},
   "source": [
    "### `tweets_csv`: Variável *timestamp* com o formato errado"
   ]
  },
  {
   "cell_type": "markdown",
   "metadata": {},
   "source": [
    "#### Definição"
   ]
  },
  {
   "cell_type": "markdown",
   "metadata": {},
   "source": [
    "Trocar o formato de *timestamp* pra pd.datetime"
   ]
  },
  {
   "cell_type": "markdown",
   "metadata": {},
   "source": [
    "#### Código"
   ]
  },
  {
   "cell_type": "code",
   "execution_count": 18,
   "metadata": {
    "ExecuteTime": {
     "end_time": "2019-02-18T00:58:17.375299Z",
     "start_time": "2019-02-18T00:58:17.354993Z"
    }
   },
   "outputs": [],
   "source": [
    "tweets_csv_copy = tweets_csv.copy()"
   ]
  },
  {
   "cell_type": "code",
   "execution_count": 19,
   "metadata": {
    "ExecuteTime": {
     "end_time": "2019-02-18T00:58:17.396292Z",
     "start_time": "2019-02-18T00:58:17.376612Z"
    }
   },
   "outputs": [],
   "source": [
    "def get_data(string):\n",
    "    string = string[:10].split(\"-\")\n",
    "    return pd.datetime(int(string[0]), int(string[1]), int(string[2]))"
   ]
  },
  {
   "cell_type": "code",
   "execution_count": 20,
   "metadata": {
    "ExecuteTime": {
     "end_time": "2019-02-18T00:58:17.446431Z",
     "start_time": "2019-02-18T00:58:17.397770Z"
    }
   },
   "outputs": [],
   "source": [
    "tweets_csv_copy.timestamp = tweets_csv_copy.timestamp.apply(get_data)"
   ]
  },
  {
   "cell_type": "markdown",
   "metadata": {},
   "source": [
    "#### Teste"
   ]
  },
  {
   "cell_type": "code",
   "execution_count": 21,
   "metadata": {
    "ExecuteTime": {
     "end_time": "2019-02-18T00:58:17.480361Z",
     "start_time": "2019-02-18T00:58:17.447911Z"
    }
   },
   "outputs": [
    {
     "name": "stdout",
     "output_type": "stream",
     "text": [
      "<class 'pandas.core.frame.DataFrame'>\n",
      "RangeIndex: 2356 entries, 0 to 2355\n",
      "Data columns (total 17 columns):\n",
      "tweet_id                      2356 non-null int64\n",
      "in_reply_to_status_id         78 non-null float64\n",
      "in_reply_to_user_id           78 non-null float64\n",
      "timestamp                     2356 non-null datetime64[ns]\n",
      "source                        2356 non-null object\n",
      "text                          2356 non-null object\n",
      "retweeted_status_id           181 non-null float64\n",
      "retweeted_status_user_id      181 non-null float64\n",
      "retweeted_status_timestamp    181 non-null object\n",
      "expanded_urls                 2297 non-null object\n",
      "rating_numerator              2356 non-null int64\n",
      "rating_denominator            2356 non-null int64\n",
      "name                          2356 non-null object\n",
      "doggo                         2356 non-null object\n",
      "floofer                       2356 non-null object\n",
      "pupper                        2356 non-null object\n",
      "puppo                         2356 non-null object\n",
      "dtypes: datetime64[ns](1), float64(4), int64(3), object(9)\n",
      "memory usage: 313.0+ KB\n"
     ]
    }
   ],
   "source": [
    "tweets_csv_copy.info()"
   ]
  },
  {
   "cell_type": "code",
   "execution_count": 22,
   "metadata": {
    "ExecuteTime": {
     "end_time": "2019-02-18T00:58:17.498925Z",
     "start_time": "2019-02-18T00:58:17.481950Z"
    }
   },
   "outputs": [],
   "source": [
    "tweets_csv = tweets_csv_copy.copy()"
   ]
  },
  {
   "cell_type": "markdown",
   "metadata": {},
   "source": [
    "### `tweets_csv`: tweet_id está com formato diferente de retweeted_status_user_id e retweeted_status_id"
   ]
  },
  {
   "cell_type": "markdown",
   "metadata": {},
   "source": [
    "#### Definição"
   ]
  },
  {
   "cell_type": "markdown",
   "metadata": {},
   "source": [
    "Colocar as 3 colunas com o formato str"
   ]
  },
  {
   "cell_type": "markdown",
   "metadata": {},
   "source": [
    "#### Código"
   ]
  },
  {
   "cell_type": "code",
   "execution_count": 23,
   "metadata": {
    "ExecuteTime": {
     "end_time": "2019-02-18T00:58:17.523034Z",
     "start_time": "2019-02-18T00:58:17.500352Z"
    }
   },
   "outputs": [],
   "source": [
    "tweets_csv_copy = tweets_csv.copy()"
   ]
  },
  {
   "cell_type": "code",
   "execution_count": 24,
   "metadata": {
    "ExecuteTime": {
     "end_time": "2019-02-18T00:58:17.549571Z",
     "start_time": "2019-02-18T00:58:17.524468Z"
    }
   },
   "outputs": [],
   "source": [
    "tweets_csv_copy.tweet_id = tweets_csv_copy.tweet_id.astype(\"str\")\n",
    "tweets_csv_copy.retweeted_status_id = tweets_csv_copy.retweeted_status_id.astype(\"str\")\n",
    "tweets_csv_copy.retweeted_status_user_id = tweets_csv_copy.retweeted_status_user_id.astype(\"str\")"
   ]
  },
  {
   "cell_type": "markdown",
   "metadata": {},
   "source": [
    "#### Teste"
   ]
  },
  {
   "cell_type": "code",
   "execution_count": 25,
   "metadata": {
    "ExecuteTime": {
     "end_time": "2019-02-18T00:58:17.588265Z",
     "start_time": "2019-02-18T00:58:17.552343Z"
    }
   },
   "outputs": [
    {
     "name": "stdout",
     "output_type": "stream",
     "text": [
      "<class 'pandas.core.frame.DataFrame'>\n",
      "RangeIndex: 2356 entries, 0 to 2355\n",
      "Data columns (total 17 columns):\n",
      "tweet_id                      2356 non-null object\n",
      "in_reply_to_status_id         78 non-null float64\n",
      "in_reply_to_user_id           78 non-null float64\n",
      "timestamp                     2356 non-null datetime64[ns]\n",
      "source                        2356 non-null object\n",
      "text                          2356 non-null object\n",
      "retweeted_status_id           2356 non-null object\n",
      "retweeted_status_user_id      2356 non-null object\n",
      "retweeted_status_timestamp    181 non-null object\n",
      "expanded_urls                 2297 non-null object\n",
      "rating_numerator              2356 non-null int64\n",
      "rating_denominator            2356 non-null int64\n",
      "name                          2356 non-null object\n",
      "doggo                         2356 non-null object\n",
      "floofer                       2356 non-null object\n",
      "pupper                        2356 non-null object\n",
      "puppo                         2356 non-null object\n",
      "dtypes: datetime64[ns](1), float64(2), int64(2), object(12)\n",
      "memory usage: 313.0+ KB\n"
     ]
    }
   ],
   "source": [
    "tweets_csv_copy.info()"
   ]
  },
  {
   "cell_type": "markdown",
   "metadata": {},
   "source": [
    "### `tweets_csv`: *name* possui palavras que não são nomes próprios - a, an"
   ]
  },
  {
   "cell_type": "markdown",
   "metadata": {},
   "source": [
    "#### Definição"
   ]
  },
  {
   "cell_type": "markdown",
   "metadata": {},
   "source": [
    "Trocar os nomes *a* e *an* por nan"
   ]
  },
  {
   "cell_type": "markdown",
   "metadata": {},
   "source": [
    "#### Código"
   ]
  },
  {
   "cell_type": "code",
   "execution_count": 26,
   "metadata": {
    "ExecuteTime": {
     "end_time": "2019-02-18T00:58:17.603437Z",
     "start_time": "2019-02-18T00:58:17.589893Z"
    }
   },
   "outputs": [],
   "source": [
    "tweets_csv_copy = tweets_csv.copy()\n",
    "tweets_csv_copy.name.replace(to_replace=[\"a\",\"an\"],value=pd.np.nan, inplace=True)"
   ]
  },
  {
   "cell_type": "markdown",
   "metadata": {},
   "source": [
    "#### Teste"
   ]
  },
  {
   "cell_type": "code",
   "execution_count": 27,
   "metadata": {
    "ExecuteTime": {
     "end_time": "2019-02-18T00:58:17.627565Z",
     "start_time": "2019-02-18T00:58:17.604723Z"
    }
   },
   "outputs": [
    {
     "data": {
      "text/plain": [
       "None       745\n",
       "Charlie     12\n",
       "Cooper      11\n",
       "Lucy        11\n",
       "Oliver      11\n",
       "Tucker      10\n",
       "Penny       10\n",
       "Lola        10\n",
       "Bo           9\n",
       "Winston      9\n",
       "Name: name, dtype: int64"
      ]
     },
     "execution_count": 27,
     "metadata": {},
     "output_type": "execute_result"
    }
   ],
   "source": [
    "tweets_csv_copy.name.value_counts()[:10]"
   ]
  },
  {
   "cell_type": "code",
   "execution_count": 28,
   "metadata": {
    "ExecuteTime": {
     "end_time": "2019-02-18T00:58:17.647945Z",
     "start_time": "2019-02-18T00:58:17.628907Z"
    }
   },
   "outputs": [],
   "source": [
    "tweets_csv = tweets_csv_copy.copy()"
   ]
  },
  {
   "cell_type": "markdown",
   "metadata": {},
   "source": [
    "### `tweets_csv`: *expanded_urls* com dados faltantes"
   ]
  },
  {
   "cell_type": "markdown",
   "metadata": {},
   "source": [
    "#### Definição"
   ]
  },
  {
   "cell_type": "markdown",
   "metadata": {},
   "source": [
    "Retirar os linhas com dados faltantes"
   ]
  },
  {
   "cell_type": "markdown",
   "metadata": {},
   "source": [
    "#### Código"
   ]
  },
  {
   "cell_type": "code",
   "execution_count": 29,
   "metadata": {
    "ExecuteTime": {
     "end_time": "2019-02-18T00:58:17.673581Z",
     "start_time": "2019-02-18T00:58:17.649557Z"
    }
   },
   "outputs": [],
   "source": [
    "tweets_csv_copy = tweets_csv.copy()\n",
    "tweets_csv_copy.dropna(subset=[\"expanded_urls\"], inplace=True)"
   ]
  },
  {
   "cell_type": "markdown",
   "metadata": {},
   "source": [
    "#### Teste"
   ]
  },
  {
   "cell_type": "code",
   "execution_count": 30,
   "metadata": {
    "ExecuteTime": {
     "end_time": "2019-02-18T00:58:17.698231Z",
     "start_time": "2019-02-18T00:58:17.675197Z"
    }
   },
   "outputs": [
    {
     "name": "stdout",
     "output_type": "stream",
     "text": [
      "<class 'pandas.core.frame.DataFrame'>\n",
      "Int64Index: 2297 entries, 0 to 2355\n",
      "Data columns (total 17 columns):\n",
      "tweet_id                      2297 non-null int64\n",
      "in_reply_to_status_id         23 non-null float64\n",
      "in_reply_to_user_id           23 non-null float64\n",
      "timestamp                     2297 non-null datetime64[ns]\n",
      "source                        2297 non-null object\n",
      "text                          2297 non-null object\n",
      "retweeted_status_id           180 non-null float64\n",
      "retweeted_status_user_id      180 non-null float64\n",
      "retweeted_status_timestamp    180 non-null object\n",
      "expanded_urls                 2297 non-null object\n",
      "rating_numerator              2297 non-null int64\n",
      "rating_denominator            2297 non-null int64\n",
      "name                          2235 non-null object\n",
      "doggo                         2297 non-null object\n",
      "floofer                       2297 non-null object\n",
      "pupper                        2297 non-null object\n",
      "puppo                         2297 non-null object\n",
      "dtypes: datetime64[ns](1), float64(4), int64(3), object(9)\n",
      "memory usage: 323.0+ KB\n"
     ]
    }
   ],
   "source": [
    "tweets_csv_copy.info()"
   ]
  },
  {
   "cell_type": "code",
   "execution_count": 31,
   "metadata": {
    "ExecuteTime": {
     "end_time": "2019-02-18T00:58:17.719625Z",
     "start_time": "2019-02-18T00:58:17.700027Z"
    }
   },
   "outputs": [],
   "source": [
    "tweets_csv = tweets_csv_copy.copy()"
   ]
  },
  {
   "cell_type": "markdown",
   "metadata": {},
   "source": [
    "### `tweets_csv`: *expanded_urls* está com os valores invalidos"
   ]
  },
  {
   "cell_type": "markdown",
   "metadata": {},
   "source": [
    "#### Definição"
   ]
  },
  {
   "cell_type": "markdown",
   "metadata": {},
   "source": [
    "Retirar os link repetidos de cada célula da coluna"
   ]
  },
  {
   "cell_type": "markdown",
   "metadata": {},
   "source": [
    "#### Código"
   ]
  },
  {
   "cell_type": "code",
   "execution_count": 32,
   "metadata": {
    "ExecuteTime": {
     "end_time": "2019-02-18T00:58:17.752744Z",
     "start_time": "2019-02-18T00:58:17.720854Z"
    }
   },
   "outputs": [],
   "source": [
    "tweets_csv_copy = tweets_csv.copy()\n",
    "tweets_csv_copy.expanded_urls = tweets_csv_copy.expanded_urls.apply(lambda url: \",\".join(set(url.split(\",\"))))"
   ]
  },
  {
   "cell_type": "markdown",
   "metadata": {},
   "source": [
    "#### Teste"
   ]
  },
  {
   "cell_type": "code",
   "execution_count": 33,
   "metadata": {
    "ExecuteTime": {
     "end_time": "2019-02-18T00:58:17.780710Z",
     "start_time": "2019-02-18T00:58:17.754235Z"
    }
   },
   "outputs": [
    {
     "data": {
      "text/html": [
       "<div>\n",
       "<style scoped>\n",
       "    .dataframe tbody tr th:only-of-type {\n",
       "        vertical-align: middle;\n",
       "    }\n",
       "\n",
       "    .dataframe tbody tr th {\n",
       "        vertical-align: top;\n",
       "    }\n",
       "\n",
       "    .dataframe thead th {\n",
       "        text-align: right;\n",
       "    }\n",
       "</style>\n",
       "<table border=\"1\" class=\"dataframe\">\n",
       "  <thead>\n",
       "    <tr style=\"text-align: right;\">\n",
       "      <th></th>\n",
       "      <th>tweet_id</th>\n",
       "      <th>in_reply_to_status_id</th>\n",
       "      <th>in_reply_to_user_id</th>\n",
       "      <th>timestamp</th>\n",
       "      <th>source</th>\n",
       "      <th>text</th>\n",
       "      <th>retweeted_status_id</th>\n",
       "      <th>retweeted_status_user_id</th>\n",
       "      <th>retweeted_status_timestamp</th>\n",
       "      <th>expanded_urls</th>\n",
       "      <th>rating_numerator</th>\n",
       "      <th>rating_denominator</th>\n",
       "      <th>name</th>\n",
       "      <th>doggo</th>\n",
       "      <th>floofer</th>\n",
       "      <th>pupper</th>\n",
       "      <th>puppo</th>\n",
       "    </tr>\n",
       "  </thead>\n",
       "  <tbody>\n",
       "  </tbody>\n",
       "</table>\n",
       "</div>"
      ],
      "text/plain": [
       "Empty DataFrame\n",
       "Columns: [tweet_id, in_reply_to_status_id, in_reply_to_user_id, timestamp, source, text, retweeted_status_id, retweeted_status_user_id, retweeted_status_timestamp, expanded_urls, rating_numerator, rating_denominator, name, doggo, floofer, pupper, puppo]\n",
       "Index: []"
      ]
     },
     "execution_count": 33,
     "metadata": {},
     "output_type": "execute_result"
    }
   ],
   "source": [
    "tweets_csv_copy[tweets_csv_copy.expanded_urls.apply(lambda url: len(url.split(\",\")) != len(set(url.split(\",\"))))]"
   ]
  },
  {
   "cell_type": "code",
   "execution_count": 34,
   "metadata": {
    "ExecuteTime": {
     "end_time": "2019-02-18T00:58:17.806480Z",
     "start_time": "2019-02-18T00:58:17.783098Z"
    }
   },
   "outputs": [],
   "source": [
    "tweets_csv = tweets_csv_copy.copy()"
   ]
  },
  {
   "cell_type": "markdown",
   "metadata": {},
   "source": [
    "### `tweets_csv`: *retweeted_status_timestamp* está com dados inválidos"
   ]
  },
  {
   "cell_type": "markdown",
   "metadata": {},
   "source": [
    "#### Definição"
   ]
  },
  {
   "cell_type": "markdown",
   "metadata": {},
   "source": [
    "Retirar a coluna. Essa coluna será criada novamente mais tarde ao ser realizado o merge com a tabela das imagens"
   ]
  },
  {
   "cell_type": "markdown",
   "metadata": {},
   "source": [
    "#### Código"
   ]
  },
  {
   "cell_type": "code",
   "execution_count": 35,
   "metadata": {
    "ExecuteTime": {
     "end_time": "2019-02-18T00:58:17.831577Z",
     "start_time": "2019-02-18T00:58:17.807970Z"
    }
   },
   "outputs": [],
   "source": [
    "tweets_csv_copy = tweets_csv.copy()\n",
    "tweets_csv_copy.drop(labels=[\"retweeted_status_timestamp\"],axis=1,inplace=True)"
   ]
  },
  {
   "cell_type": "markdown",
   "metadata": {},
   "source": [
    "#### Teste"
   ]
  },
  {
   "cell_type": "code",
   "execution_count": 36,
   "metadata": {
    "ExecuteTime": {
     "end_time": "2019-02-18T00:58:17.856328Z",
     "start_time": "2019-02-18T00:58:17.833376Z"
    }
   },
   "outputs": [
    {
     "name": "stdout",
     "output_type": "stream",
     "text": [
      "<class 'pandas.core.frame.DataFrame'>\n",
      "Int64Index: 2297 entries, 0 to 2355\n",
      "Data columns (total 16 columns):\n",
      "tweet_id                    2297 non-null int64\n",
      "in_reply_to_status_id       23 non-null float64\n",
      "in_reply_to_user_id         23 non-null float64\n",
      "timestamp                   2297 non-null datetime64[ns]\n",
      "source                      2297 non-null object\n",
      "text                        2297 non-null object\n",
      "retweeted_status_id         180 non-null float64\n",
      "retweeted_status_user_id    180 non-null float64\n",
      "expanded_urls               2297 non-null object\n",
      "rating_numerator            2297 non-null int64\n",
      "rating_denominator          2297 non-null int64\n",
      "name                        2235 non-null object\n",
      "doggo                       2297 non-null object\n",
      "floofer                     2297 non-null object\n",
      "pupper                      2297 non-null object\n",
      "puppo                       2297 non-null object\n",
      "dtypes: datetime64[ns](1), float64(4), int64(3), object(8)\n",
      "memory usage: 305.1+ KB\n"
     ]
    }
   ],
   "source": [
    "tweets_csv_copy.info()"
   ]
  },
  {
   "cell_type": "code",
   "execution_count": 37,
   "metadata": {
    "ExecuteTime": {
     "end_time": "2019-02-18T00:58:17.874504Z",
     "start_time": "2019-02-18T00:58:17.857780Z"
    }
   },
   "outputs": [],
   "source": [
    "tweets_csv = tweets_csv_copy.copy()"
   ]
  },
  {
   "cell_type": "markdown",
   "metadata": {},
   "source": [
    "## Arrumação"
   ]
  },
  {
   "cell_type": "code",
   "execution_count": 38,
   "metadata": {
    "ExecuteTime": {
     "end_time": "2019-02-18T00:58:17.901380Z",
     "start_time": "2019-02-18T00:58:17.876352Z"
    }
   },
   "outputs": [],
   "source": [
    "df_master = tweets_csv.copy()"
   ]
  },
  {
   "cell_type": "markdown",
   "metadata": {},
   "source": [
    "### `tweets_csv`: Retirar as colunas doggo, floofer, pupper e puppo"
   ]
  },
  {
   "cell_type": "markdown",
   "metadata": {},
   "source": [
    "#### Definição"
   ]
  },
  {
   "cell_type": "markdown",
   "metadata": {},
   "source": [
    "Criar uma nova coluna setando o tipo de cachorro de acordo com o que estiver no texto do tweet"
   ]
  },
  {
   "cell_type": "markdown",
   "metadata": {},
   "source": [
    "#### Código"
   ]
  },
  {
   "cell_type": "code",
   "execution_count": 39,
   "metadata": {
    "ExecuteTime": {
     "end_time": "2019-02-18T00:58:17.941433Z",
     "start_time": "2019-02-18T00:58:17.902756Z"
    }
   },
   "outputs": [],
   "source": [
    "df_master.drop(labels=['doggo', 'floofer', 'pupper', 'puppo'], axis=1, inplace=True)\n",
    "\n",
    "def get_tipo_de_cachorro(texto):\n",
    "    for tipo in ['doggo', 'floofer', 'pupper', 'puppo']:\n",
    "        if tipo in texto:\n",
    "            return tipo\n",
    "    return pd.np.nan\n",
    "\n",
    "df_master[\"type\"] = df_master.text.apply(get_tipo_de_cachorro)"
   ]
  },
  {
   "cell_type": "markdown",
   "metadata": {},
   "source": [
    "#### Teste"
   ]
  },
  {
   "cell_type": "code",
   "execution_count": 40,
   "metadata": {
    "ExecuteTime": {
     "end_time": "2019-02-18T00:58:17.988789Z",
     "start_time": "2019-02-18T00:58:17.945083Z"
    }
   },
   "outputs": [
    {
     "data": {
      "text/html": [
       "<div>\n",
       "<style scoped>\n",
       "    .dataframe tbody tr th:only-of-type {\n",
       "        vertical-align: middle;\n",
       "    }\n",
       "\n",
       "    .dataframe tbody tr th {\n",
       "        vertical-align: top;\n",
       "    }\n",
       "\n",
       "    .dataframe thead th {\n",
       "        text-align: right;\n",
       "    }\n",
       "</style>\n",
       "<table border=\"1\" class=\"dataframe\">\n",
       "  <thead>\n",
       "    <tr style=\"text-align: right;\">\n",
       "      <th></th>\n",
       "      <th>tweet_id</th>\n",
       "      <th>in_reply_to_status_id</th>\n",
       "      <th>in_reply_to_user_id</th>\n",
       "      <th>timestamp</th>\n",
       "      <th>source</th>\n",
       "      <th>text</th>\n",
       "      <th>retweeted_status_id</th>\n",
       "      <th>retweeted_status_user_id</th>\n",
       "      <th>expanded_urls</th>\n",
       "      <th>rating_numerator</th>\n",
       "      <th>rating_denominator</th>\n",
       "      <th>name</th>\n",
       "      <th>type</th>\n",
       "    </tr>\n",
       "  </thead>\n",
       "  <tbody>\n",
       "    <tr>\n",
       "      <th>0</th>\n",
       "      <td>892420643555336193</td>\n",
       "      <td>NaN</td>\n",
       "      <td>NaN</td>\n",
       "      <td>2017-08-01</td>\n",
       "      <td>&lt;a href=\"http://twitter.com/download/iphone\" r...</td>\n",
       "      <td>This is Phineas. He's a mystical boy. Only eve...</td>\n",
       "      <td>NaN</td>\n",
       "      <td>NaN</td>\n",
       "      <td>https://twitter.com/dog_rates/status/892420643...</td>\n",
       "      <td>13</td>\n",
       "      <td>10</td>\n",
       "      <td>Phineas</td>\n",
       "      <td>NaN</td>\n",
       "    </tr>\n",
       "    <tr>\n",
       "      <th>1</th>\n",
       "      <td>892177421306343426</td>\n",
       "      <td>NaN</td>\n",
       "      <td>NaN</td>\n",
       "      <td>2017-08-01</td>\n",
       "      <td>&lt;a href=\"http://twitter.com/download/iphone\" r...</td>\n",
       "      <td>This is Tilly. She's just checking pup on you....</td>\n",
       "      <td>NaN</td>\n",
       "      <td>NaN</td>\n",
       "      <td>https://twitter.com/dog_rates/status/892177421...</td>\n",
       "      <td>13</td>\n",
       "      <td>10</td>\n",
       "      <td>Tilly</td>\n",
       "      <td>NaN</td>\n",
       "    </tr>\n",
       "    <tr>\n",
       "      <th>2</th>\n",
       "      <td>891815181378084864</td>\n",
       "      <td>NaN</td>\n",
       "      <td>NaN</td>\n",
       "      <td>2017-07-31</td>\n",
       "      <td>&lt;a href=\"http://twitter.com/download/iphone\" r...</td>\n",
       "      <td>This is Archie. He is a rare Norwegian Pouncin...</td>\n",
       "      <td>NaN</td>\n",
       "      <td>NaN</td>\n",
       "      <td>https://twitter.com/dog_rates/status/891815181...</td>\n",
       "      <td>12</td>\n",
       "      <td>10</td>\n",
       "      <td>Archie</td>\n",
       "      <td>NaN</td>\n",
       "    </tr>\n",
       "    <tr>\n",
       "      <th>3</th>\n",
       "      <td>891689557279858688</td>\n",
       "      <td>NaN</td>\n",
       "      <td>NaN</td>\n",
       "      <td>2017-07-30</td>\n",
       "      <td>&lt;a href=\"http://twitter.com/download/iphone\" r...</td>\n",
       "      <td>This is Darla. She commenced a snooze mid meal...</td>\n",
       "      <td>NaN</td>\n",
       "      <td>NaN</td>\n",
       "      <td>https://twitter.com/dog_rates/status/891689557...</td>\n",
       "      <td>13</td>\n",
       "      <td>10</td>\n",
       "      <td>Darla</td>\n",
       "      <td>NaN</td>\n",
       "    </tr>\n",
       "    <tr>\n",
       "      <th>4</th>\n",
       "      <td>891327558926688256</td>\n",
       "      <td>NaN</td>\n",
       "      <td>NaN</td>\n",
       "      <td>2017-07-29</td>\n",
       "      <td>&lt;a href=\"http://twitter.com/download/iphone\" r...</td>\n",
       "      <td>This is Franklin. He would like you to stop ca...</td>\n",
       "      <td>NaN</td>\n",
       "      <td>NaN</td>\n",
       "      <td>https://twitter.com/dog_rates/status/891327558...</td>\n",
       "      <td>12</td>\n",
       "      <td>10</td>\n",
       "      <td>Franklin</td>\n",
       "      <td>NaN</td>\n",
       "    </tr>\n",
       "  </tbody>\n",
       "</table>\n",
       "</div>"
      ],
      "text/plain": [
       "             tweet_id  in_reply_to_status_id  in_reply_to_user_id  timestamp  \\\n",
       "0  892420643555336193                    NaN                  NaN 2017-08-01   \n",
       "1  892177421306343426                    NaN                  NaN 2017-08-01   \n",
       "2  891815181378084864                    NaN                  NaN 2017-07-31   \n",
       "3  891689557279858688                    NaN                  NaN 2017-07-30   \n",
       "4  891327558926688256                    NaN                  NaN 2017-07-29   \n",
       "\n",
       "                                              source  \\\n",
       "0  <a href=\"http://twitter.com/download/iphone\" r...   \n",
       "1  <a href=\"http://twitter.com/download/iphone\" r...   \n",
       "2  <a href=\"http://twitter.com/download/iphone\" r...   \n",
       "3  <a href=\"http://twitter.com/download/iphone\" r...   \n",
       "4  <a href=\"http://twitter.com/download/iphone\" r...   \n",
       "\n",
       "                                                text  retweeted_status_id  \\\n",
       "0  This is Phineas. He's a mystical boy. Only eve...                  NaN   \n",
       "1  This is Tilly. She's just checking pup on you....                  NaN   \n",
       "2  This is Archie. He is a rare Norwegian Pouncin...                  NaN   \n",
       "3  This is Darla. She commenced a snooze mid meal...                  NaN   \n",
       "4  This is Franklin. He would like you to stop ca...                  NaN   \n",
       "\n",
       "   retweeted_status_user_id  \\\n",
       "0                       NaN   \n",
       "1                       NaN   \n",
       "2                       NaN   \n",
       "3                       NaN   \n",
       "4                       NaN   \n",
       "\n",
       "                                       expanded_urls  rating_numerator  \\\n",
       "0  https://twitter.com/dog_rates/status/892420643...                13   \n",
       "1  https://twitter.com/dog_rates/status/892177421...                13   \n",
       "2  https://twitter.com/dog_rates/status/891815181...                12   \n",
       "3  https://twitter.com/dog_rates/status/891689557...                13   \n",
       "4  https://twitter.com/dog_rates/status/891327558...                12   \n",
       "\n",
       "   rating_denominator      name type  \n",
       "0                  10   Phineas  NaN  \n",
       "1                  10     Tilly  NaN  \n",
       "2                  10    Archie  NaN  \n",
       "3                  10     Darla  NaN  \n",
       "4                  10  Franklin  NaN  "
      ]
     },
     "execution_count": 40,
     "metadata": {},
     "output_type": "execute_result"
    }
   ],
   "source": [
    "df_master.head()"
   ]
  },
  {
   "cell_type": "markdown",
   "metadata": {},
   "source": [
    "### `todas as tabelas`: Juntar as 3 tabelas em uma só.  "
   ]
  },
  {
   "cell_type": "markdown",
   "metadata": {},
   "source": [
    "#### Definição"
   ]
  },
  {
   "cell_type": "markdown",
   "metadata": {
    "ExecuteTime": {
     "end_time": "2019-02-09T06:16:57.776251Z",
     "start_time": "2019-02-09T06:16:57.734918Z"
    }
   },
   "source": [
    "Juntar as tabelas através de um join nas colunas ids"
   ]
  },
  {
   "cell_type": "markdown",
   "metadata": {},
   "source": [
    "#### Código"
   ]
  },
  {
   "cell_type": "code",
   "execution_count": 41,
   "metadata": {
    "ExecuteTime": {
     "end_time": "2019-02-18T00:58:18.037385Z",
     "start_time": "2019-02-18T00:58:17.990653Z"
    }
   },
   "outputs": [],
   "source": [
    "df_master = df_master.merge(tweets_json, left_on=\"tweet_id\", right_on=\"id\")\n",
    "df_master = df_master.merge(imagens, on=\"tweet_id\")\n",
    "df_master.drop(labels=[\"id\",\"timestamp\"],axis=1,inplace=True)"
   ]
  },
  {
   "cell_type": "markdown",
   "metadata": {},
   "source": [
    "#### Teste"
   ]
  },
  {
   "cell_type": "code",
   "execution_count": 42,
   "metadata": {
    "ExecuteTime": {
     "end_time": "2019-02-18T00:58:18.072642Z",
     "start_time": "2019-02-18T00:58:18.038804Z"
    }
   },
   "outputs": [
    {
     "name": "stdout",
     "output_type": "stream",
     "text": [
      "<class 'pandas.core.frame.DataFrame'>\n",
      "Int64Index: 2052 entries, 0 to 2051\n",
      "Data columns (total 26 columns):\n",
      "tweet_id                    2052 non-null int64\n",
      "in_reply_to_status_id       23 non-null float64\n",
      "in_reply_to_user_id         23 non-null float64\n",
      "source                      2052 non-null object\n",
      "text                        2052 non-null object\n",
      "retweeted_status_id         75 non-null float64\n",
      "retweeted_status_user_id    75 non-null float64\n",
      "expanded_urls               2052 non-null object\n",
      "rating_numerator            2052 non-null int64\n",
      "rating_denominator          2052 non-null int64\n",
      "name                        1991 non-null object\n",
      "type                        333 non-null object\n",
      "created_at                  2052 non-null datetime64[ns]\n",
      "favorite_count              2052 non-null int64\n",
      "retweet_count               2052 non-null int64\n",
      "jpg_url                     2052 non-null object\n",
      "img_num                     2052 non-null int64\n",
      "p1                          2052 non-null object\n",
      "p1_conf                     2052 non-null float64\n",
      "p1_dog                      2052 non-null bool\n",
      "p2                          2052 non-null object\n",
      "p2_conf                     2052 non-null float64\n",
      "p2_dog                      2052 non-null bool\n",
      "p3                          2052 non-null object\n",
      "p3_conf                     2052 non-null float64\n",
      "p3_dog                      2052 non-null bool\n",
      "dtypes: bool(3), datetime64[ns](1), float64(7), int64(6), object(9)\n",
      "memory usage: 390.8+ KB\n"
     ]
    }
   ],
   "source": [
    "df_master.info()"
   ]
  },
  {
   "cell_type": "code",
   "execution_count": 43,
   "metadata": {
    "ExecuteTime": {
     "end_time": "2019-02-18T00:58:18.120398Z",
     "start_time": "2019-02-18T00:58:18.074670Z"
    }
   },
   "outputs": [
    {
     "data": {
      "text/html": [
       "<div>\n",
       "<style scoped>\n",
       "    .dataframe tbody tr th:only-of-type {\n",
       "        vertical-align: middle;\n",
       "    }\n",
       "\n",
       "    .dataframe tbody tr th {\n",
       "        vertical-align: top;\n",
       "    }\n",
       "\n",
       "    .dataframe thead th {\n",
       "        text-align: right;\n",
       "    }\n",
       "</style>\n",
       "<table border=\"1\" class=\"dataframe\">\n",
       "  <thead>\n",
       "    <tr style=\"text-align: right;\">\n",
       "      <th></th>\n",
       "      <th>tweet_id</th>\n",
       "      <th>in_reply_to_status_id</th>\n",
       "      <th>in_reply_to_user_id</th>\n",
       "      <th>source</th>\n",
       "      <th>text</th>\n",
       "      <th>retweeted_status_id</th>\n",
       "      <th>retweeted_status_user_id</th>\n",
       "      <th>expanded_urls</th>\n",
       "      <th>rating_numerator</th>\n",
       "      <th>rating_denominator</th>\n",
       "      <th>...</th>\n",
       "      <th>img_num</th>\n",
       "      <th>p1</th>\n",
       "      <th>p1_conf</th>\n",
       "      <th>p1_dog</th>\n",
       "      <th>p2</th>\n",
       "      <th>p2_conf</th>\n",
       "      <th>p2_dog</th>\n",
       "      <th>p3</th>\n",
       "      <th>p3_conf</th>\n",
       "      <th>p3_dog</th>\n",
       "    </tr>\n",
       "  </thead>\n",
       "  <tbody>\n",
       "    <tr>\n",
       "      <th>0</th>\n",
       "      <td>892420643555336193</td>\n",
       "      <td>NaN</td>\n",
       "      <td>NaN</td>\n",
       "      <td>&lt;a href=\"http://twitter.com/download/iphone\" r...</td>\n",
       "      <td>This is Phineas. He's a mystical boy. Only eve...</td>\n",
       "      <td>NaN</td>\n",
       "      <td>NaN</td>\n",
       "      <td>https://twitter.com/dog_rates/status/892420643...</td>\n",
       "      <td>13</td>\n",
       "      <td>10</td>\n",
       "      <td>...</td>\n",
       "      <td>1</td>\n",
       "      <td>orange</td>\n",
       "      <td>0.097049</td>\n",
       "      <td>False</td>\n",
       "      <td>bagel</td>\n",
       "      <td>0.085851</td>\n",
       "      <td>False</td>\n",
       "      <td>banana</td>\n",
       "      <td>0.076110</td>\n",
       "      <td>False</td>\n",
       "    </tr>\n",
       "    <tr>\n",
       "      <th>1</th>\n",
       "      <td>892177421306343426</td>\n",
       "      <td>NaN</td>\n",
       "      <td>NaN</td>\n",
       "      <td>&lt;a href=\"http://twitter.com/download/iphone\" r...</td>\n",
       "      <td>This is Tilly. She's just checking pup on you....</td>\n",
       "      <td>NaN</td>\n",
       "      <td>NaN</td>\n",
       "      <td>https://twitter.com/dog_rates/status/892177421...</td>\n",
       "      <td>13</td>\n",
       "      <td>10</td>\n",
       "      <td>...</td>\n",
       "      <td>1</td>\n",
       "      <td>Chihuahua</td>\n",
       "      <td>0.323581</td>\n",
       "      <td>True</td>\n",
       "      <td>Pekinese</td>\n",
       "      <td>0.090647</td>\n",
       "      <td>True</td>\n",
       "      <td>papillon</td>\n",
       "      <td>0.068957</td>\n",
       "      <td>True</td>\n",
       "    </tr>\n",
       "    <tr>\n",
       "      <th>2</th>\n",
       "      <td>891815181378084864</td>\n",
       "      <td>NaN</td>\n",
       "      <td>NaN</td>\n",
       "      <td>&lt;a href=\"http://twitter.com/download/iphone\" r...</td>\n",
       "      <td>This is Archie. He is a rare Norwegian Pouncin...</td>\n",
       "      <td>NaN</td>\n",
       "      <td>NaN</td>\n",
       "      <td>https://twitter.com/dog_rates/status/891815181...</td>\n",
       "      <td>12</td>\n",
       "      <td>10</td>\n",
       "      <td>...</td>\n",
       "      <td>1</td>\n",
       "      <td>Chihuahua</td>\n",
       "      <td>0.716012</td>\n",
       "      <td>True</td>\n",
       "      <td>malamute</td>\n",
       "      <td>0.078253</td>\n",
       "      <td>True</td>\n",
       "      <td>kelpie</td>\n",
       "      <td>0.031379</td>\n",
       "      <td>True</td>\n",
       "    </tr>\n",
       "  </tbody>\n",
       "</table>\n",
       "<p>3 rows × 26 columns</p>\n",
       "</div>"
      ],
      "text/plain": [
       "             tweet_id  in_reply_to_status_id  in_reply_to_user_id  \\\n",
       "0  892420643555336193                    NaN                  NaN   \n",
       "1  892177421306343426                    NaN                  NaN   \n",
       "2  891815181378084864                    NaN                  NaN   \n",
       "\n",
       "                                              source  \\\n",
       "0  <a href=\"http://twitter.com/download/iphone\" r...   \n",
       "1  <a href=\"http://twitter.com/download/iphone\" r...   \n",
       "2  <a href=\"http://twitter.com/download/iphone\" r...   \n",
       "\n",
       "                                                text  retweeted_status_id  \\\n",
       "0  This is Phineas. He's a mystical boy. Only eve...                  NaN   \n",
       "1  This is Tilly. She's just checking pup on you....                  NaN   \n",
       "2  This is Archie. He is a rare Norwegian Pouncin...                  NaN   \n",
       "\n",
       "   retweeted_status_user_id  \\\n",
       "0                       NaN   \n",
       "1                       NaN   \n",
       "2                       NaN   \n",
       "\n",
       "                                       expanded_urls  rating_numerator  \\\n",
       "0  https://twitter.com/dog_rates/status/892420643...                13   \n",
       "1  https://twitter.com/dog_rates/status/892177421...                13   \n",
       "2  https://twitter.com/dog_rates/status/891815181...                12   \n",
       "\n",
       "   rating_denominator   ...   img_num         p1   p1_conf  p1_dog        p2  \\\n",
       "0                  10   ...         1     orange  0.097049   False     bagel   \n",
       "1                  10   ...         1  Chihuahua  0.323581    True  Pekinese   \n",
       "2                  10   ...         1  Chihuahua  0.716012    True  malamute   \n",
       "\n",
       "    p2_conf  p2_dog        p3   p3_conf  p3_dog  \n",
       "0  0.085851   False    banana  0.076110   False  \n",
       "1  0.090647    True  papillon  0.068957    True  \n",
       "2  0.078253    True    kelpie  0.031379    True  \n",
       "\n",
       "[3 rows x 26 columns]"
      ]
     },
     "execution_count": 43,
     "metadata": {},
     "output_type": "execute_result"
    }
   ],
   "source": [
    "#teste\n",
    "df_master.head(3)"
   ]
  }
 ],
 "metadata": {
  "kernelspec": {
   "display_name": "Python 3",
   "language": "python",
   "name": "python3"
  },
  "language_info": {
   "codemirror_mode": {
    "name": "ipython",
    "version": 3
   },
   "file_extension": ".py",
   "mimetype": "text/x-python",
   "name": "python",
   "nbconvert_exporter": "python",
   "pygments_lexer": "ipython3",
   "version": "3.7.1"
  },
  "toc": {
   "base_numbering": 1,
   "nav_menu": {},
   "number_sections": true,
   "sideBar": true,
   "skip_h1_title": false,
   "title_cell": "Table of Contents",
   "title_sidebar": "Contents",
   "toc_cell": true,
   "toc_position": {},
   "toc_section_display": true,
   "toc_window_display": false
  },
  "varInspector": {
   "cols": {
    "lenName": 16,
    "lenType": 16,
    "lenVar": 40
   },
   "kernels_config": {
    "python": {
     "delete_cmd_postfix": "",
     "delete_cmd_prefix": "del ",
     "library": "var_list.py",
     "varRefreshCmd": "print(var_dic_list())"
    },
    "r": {
     "delete_cmd_postfix": ") ",
     "delete_cmd_prefix": "rm(",
     "library": "var_list.r",
     "varRefreshCmd": "cat(var_dic_list()) "
    }
   },
   "types_to_exclude": [
    "module",
    "function",
    "builtin_function_or_method",
    "instance",
    "_Feature"
   ],
   "window_display": false
  }
 },
 "nbformat": 4,
 "nbformat_minor": 2
}
