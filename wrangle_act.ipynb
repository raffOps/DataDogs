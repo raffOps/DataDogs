{
 "cells": [
  {
<<<<<<< HEAD
   "cell_type": "markdown",
   "metadata": {
    "toc": true
   },
   "source": [
    "<h1>Table of Contents<span class=\"tocSkip\"></span></h1>\n",
    "<div class=\"toc\"><ul class=\"toc-item\"><li><span><a href=\"#Imports\" data-toc-modified-id=\"Imports-1\"><span class=\"toc-item-num\">1&nbsp;&nbsp;</span>Imports</a></span></li><li><span><a href=\"#Coleta\" data-toc-modified-id=\"Coleta-2\"><span class=\"toc-item-num\">2&nbsp;&nbsp;</span>Coleta</a></span><ul class=\"toc-item\"><li><span><a href=\"#Arquivo-csv-de-tweets\" data-toc-modified-id=\"Arquivo-csv-de-tweets-2.1\"><span class=\"toc-item-num\">2.1&nbsp;&nbsp;</span>Arquivo csv de tweets</a></span></li><li><span><a href=\"#Arquivo-csv-com-as-imagens-de-catioros\" data-toc-modified-id=\"Arquivo-csv-com-as-imagens-de-catioros-2.2\"><span class=\"toc-item-num\">2.2&nbsp;&nbsp;</span>Arquivo csv com as imagens de catioros</a></span></li><li><span><a href=\"#Extração-de-dados-de-dados-através-da-tweepy\" data-toc-modified-id=\"Extração-de-dados-de-dados-através-da-tweepy-2.3\"><span class=\"toc-item-num\">2.3&nbsp;&nbsp;</span>Extração de dados de dados através da tweepy</a></span></li><li><span><a href=\"#Extracao-dos-tweets\" data-toc-modified-id=\"Extracao-dos-tweets-2.4\"><span class=\"toc-item-num\">2.4&nbsp;&nbsp;</span>Extracao dos tweets</a></span><ul class=\"toc-item\"><li><span><a href=\"#Salvamento-dos-tweets\" data-toc-modified-id=\"Salvamento-dos-tweets-2.4.1\"><span class=\"toc-item-num\">2.4.1&nbsp;&nbsp;</span>Salvamento dos tweets</a></span></li></ul></li><li><span><a href=\"#Carregamento-dos-tweets\" data-toc-modified-id=\"Carregamento-dos-tweets-2.5\"><span class=\"toc-item-num\">2.5&nbsp;&nbsp;</span>Carregamento dos tweets</a></span></li></ul></li><li><span><a href=\"#Avaliação\" data-toc-modified-id=\"Avaliação-3\"><span class=\"toc-item-num\">3&nbsp;&nbsp;</span>Avaliação</a></span><ul class=\"toc-item\"><li><span><a href=\"#Qualidade\" data-toc-modified-id=\"Qualidade-3.1\"><span class=\"toc-item-num\">3.1&nbsp;&nbsp;</span>Qualidade</a></span><ul class=\"toc-item\"><li><span><a href=\"#Tabela-tweets_csv\" data-toc-modified-id=\"Tabela-tweets_csv-3.1.1\"><span class=\"toc-item-num\">3.1.1&nbsp;&nbsp;</span>Tabela <em>tweets_csv</em></a></span></li></ul></li><li><span><a href=\"#Arrumação\" data-toc-modified-id=\"Arrumação-3.2\"><span class=\"toc-item-num\">3.2&nbsp;&nbsp;</span>Arrumação</a></span><ul class=\"toc-item\"><li><span><a href=\"#Tabela-tweets_csv\" data-toc-modified-id=\"Tabela-tweets_csv-3.2.1\"><span class=\"toc-item-num\">3.2.1&nbsp;&nbsp;</span>Tabela <em>tweets_csv</em></a></span></li><li><span><a href=\"#Todas-as-tabelas\" data-toc-modified-id=\"Todas-as-tabelas-3.2.2\"><span class=\"toc-item-num\">3.2.2&nbsp;&nbsp;</span>Todas as tabelas</a></span></li></ul></li></ul></li><li><span><a href=\"#Limpeza\" data-toc-modified-id=\"Limpeza-4\"><span class=\"toc-item-num\">4&nbsp;&nbsp;</span>Limpeza</a></span><ul class=\"toc-item\"><li><span><a href=\"#Qualidade\" data-toc-modified-id=\"Qualidade-4.1\"><span class=\"toc-item-num\">4.1&nbsp;&nbsp;</span>Qualidade</a></span><ul class=\"toc-item\"><li><span><a href=\"#tweets_csv:-Variável-timestamp-com-o-formato-errado\" data-toc-modified-id=\"tweets_csv:-Variável-timestamp-com-o-formato-errado-4.1.1\"><span class=\"toc-item-num\">4.1.1&nbsp;&nbsp;</span><code>tweets_csv</code>: Variável <em>timestamp</em> com o formato errado</a></span><ul class=\"toc-item\"><li><span><a href=\"#Definição\" data-toc-modified-id=\"Definição-4.1.1.1\"><span class=\"toc-item-num\">4.1.1.1&nbsp;&nbsp;</span>Definição</a></span></li><li><span><a href=\"#Código\" data-toc-modified-id=\"Código-4.1.1.2\"><span class=\"toc-item-num\">4.1.1.2&nbsp;&nbsp;</span>Código</a></span></li><li><span><a href=\"#Teste\" data-toc-modified-id=\"Teste-4.1.1.3\"><span class=\"toc-item-num\">4.1.1.3&nbsp;&nbsp;</span>Teste</a></span></li></ul></li><li><span><a href=\"#tweets_csv:-tweet_id-está-com-formato-diferente-de-retweeted_status_user_id-e-retweeted_status_id\" data-toc-modified-id=\"tweets_csv:-tweet_id-está-com-formato-diferente-de-retweeted_status_user_id-e-retweeted_status_id-4.1.2\"><span class=\"toc-item-num\">4.1.2&nbsp;&nbsp;</span><code>tweets_csv</code>: tweet_id está com formato diferente de retweeted_status_user_id e retweeted_status_id</a></span><ul class=\"toc-item\"><li><span><a href=\"#Definição\" data-toc-modified-id=\"Definição-4.1.2.1\"><span class=\"toc-item-num\">4.1.2.1&nbsp;&nbsp;</span>Definição</a></span></li><li><span><a href=\"#Código:\" data-toc-modified-id=\"Código:-4.1.2.2\"><span class=\"toc-item-num\">4.1.2.2&nbsp;&nbsp;</span>Código:</a></span></li><li><span><a href=\"#Teste\" data-toc-modified-id=\"Teste-4.1.2.3\"><span class=\"toc-item-num\">4.1.2.3&nbsp;&nbsp;</span>Teste</a></span></li></ul></li><li><span><a href=\"#tweets_csv:-name-possui-palavras-que-não-são-nomes-próprios---a,-an\" data-toc-modified-id=\"tweets_csv:-name-possui-palavras-que-não-são-nomes-próprios---a,-an-4.1.3\"><span class=\"toc-item-num\">4.1.3&nbsp;&nbsp;</span><code>tweets_csv</code>: <em>name</em> possui palavras que não são nomes próprios - a, an</a></span><ul class=\"toc-item\"><li><span><a href=\"#Definição\" data-toc-modified-id=\"Definição-4.1.3.1\"><span class=\"toc-item-num\">4.1.3.1&nbsp;&nbsp;</span>Definição</a></span></li><li><span><a href=\"#Código\" data-toc-modified-id=\"Código-4.1.3.2\"><span class=\"toc-item-num\">4.1.3.2&nbsp;&nbsp;</span>Código</a></span></li><li><span><a href=\"#Teste\" data-toc-modified-id=\"Teste-4.1.3.3\"><span class=\"toc-item-num\">4.1.3.3&nbsp;&nbsp;</span>Teste</a></span></li></ul></li><li><span><a href=\"#tweets_csv:-expanded_urls-com-dados-faltantes\" data-toc-modified-id=\"tweets_csv:-expanded_urls-com-dados-faltantes-4.1.4\"><span class=\"toc-item-num\">4.1.4&nbsp;&nbsp;</span><code>tweets_csv</code>: <em>expanded_urls</em> com dados faltantes</a></span><ul class=\"toc-item\"><li><span><a href=\"#Definição\" data-toc-modified-id=\"Definição-4.1.4.1\"><span class=\"toc-item-num\">4.1.4.1&nbsp;&nbsp;</span>Definição</a></span></li><li><span><a href=\"#Código\" data-toc-modified-id=\"Código-4.1.4.2\"><span class=\"toc-item-num\">4.1.4.2&nbsp;&nbsp;</span>Código</a></span></li><li><span><a href=\"#Teste\" data-toc-modified-id=\"Teste-4.1.4.3\"><span class=\"toc-item-num\">4.1.4.3&nbsp;&nbsp;</span>Teste</a></span></li></ul></li><li><span><a href=\"#tweets_csv:-expanded_urls-está-com-os-valores-invalidos\" data-toc-modified-id=\"tweets_csv:-expanded_urls-está-com-os-valores-invalidos-4.1.5\"><span class=\"toc-item-num\">4.1.5&nbsp;&nbsp;</span><code>tweets_csv</code>: <em>expanded_urls</em> está com os valores invalidos</a></span><ul class=\"toc-item\"><li><span><a href=\"#Definição\" data-toc-modified-id=\"Definição-4.1.5.1\"><span class=\"toc-item-num\">4.1.5.1&nbsp;&nbsp;</span>Definição</a></span></li><li><span><a href=\"#Código\" data-toc-modified-id=\"Código-4.1.5.2\"><span class=\"toc-item-num\">4.1.5.2&nbsp;&nbsp;</span>Código</a></span></li><li><span><a href=\"#Teste\" data-toc-modified-id=\"Teste-4.1.5.3\"><span class=\"toc-item-num\">4.1.5.3&nbsp;&nbsp;</span>Teste</a></span></li></ul></li><li><span><a href=\"#tweets_csv:-retweeted_status_timestamp-está-com-dados-inválidos\" data-toc-modified-id=\"tweets_csv:-retweeted_status_timestamp-está-com-dados-inválidos-4.1.6\"><span class=\"toc-item-num\">4.1.6&nbsp;&nbsp;</span><code>tweets_csv</code>: <em>retweeted_status_timestamp</em> está com dados inválidos</a></span><ul class=\"toc-item\"><li><span><a href=\"#Definição\" data-toc-modified-id=\"Definição-4.1.6.1\"><span class=\"toc-item-num\">4.1.6.1&nbsp;&nbsp;</span>Definição</a></span></li><li><span><a href=\"#Código\" data-toc-modified-id=\"Código-4.1.6.2\"><span class=\"toc-item-num\">4.1.6.2&nbsp;&nbsp;</span>Código</a></span></li><li><span><a href=\"#Teste\" data-toc-modified-id=\"Teste-4.1.6.3\"><span class=\"toc-item-num\">4.1.6.3&nbsp;&nbsp;</span>Teste</a></span></li></ul></li></ul></li><li><span><a href=\"#Arrumação\" data-toc-modified-id=\"Arrumação-4.2\"><span class=\"toc-item-num\">4.2&nbsp;&nbsp;</span>Arrumação</a></span><ul class=\"toc-item\"><li><span><a href=\"#tweets_csv:-Retirar-as-colunas-doggo,-floofer,-pupper-e-puppo\" data-toc-modified-id=\"tweets_csv:-Retirar-as-colunas-doggo,-floofer,-pupper-e-puppo-4.2.1\"><span class=\"toc-item-num\">4.2.1&nbsp;&nbsp;</span><code>tweets_csv</code>: Retirar as colunas doggo, floofer, pupper e puppo</a></span><ul class=\"toc-item\"><li><span><a href=\"#Definição\" data-toc-modified-id=\"Definição-4.2.1.1\"><span class=\"toc-item-num\">4.2.1.1&nbsp;&nbsp;</span>Definição</a></span></li><li><span><a href=\"#Código\" data-toc-modified-id=\"Código-4.2.1.2\"><span class=\"toc-item-num\">4.2.1.2&nbsp;&nbsp;</span>Código</a></span></li><li><span><a href=\"#Teste\" data-toc-modified-id=\"Teste-4.2.1.3\"><span class=\"toc-item-num\">4.2.1.3&nbsp;&nbsp;</span>Teste</a></span></li></ul></li><li><span><a href=\"#todas-as-tabelas:-Juntar-as-3-tabelas-em-uma-só.\" data-toc-modified-id=\"todas-as-tabelas:-Juntar-as-3-tabelas-em-uma-só.-4.2.2\"><span class=\"toc-item-num\">4.2.2&nbsp;&nbsp;</span><code>todas as tabelas</code>: Juntar as 3 tabelas em uma só.</a></span><ul class=\"toc-item\"><li><span><a href=\"#Definição\" data-toc-modified-id=\"Definição-4.2.2.1\"><span class=\"toc-item-num\">4.2.2.1&nbsp;&nbsp;</span>Definição</a></span></li><li><span><a href=\"#Código\" data-toc-modified-id=\"Código-4.2.2.2\"><span class=\"toc-item-num\">4.2.2.2&nbsp;&nbsp;</span>Código</a></span></li><li><span><a href=\"#Teste\" data-toc-modified-id=\"Teste-4.2.2.3\"><span class=\"toc-item-num\">4.2.2.3&nbsp;&nbsp;</span>Teste</a></span></li></ul></li></ul></li></ul></li></ul></div>"
   ]
  },
  {
   "cell_type": "markdown",
=======
   "cell_type": "code",
   "execution_count": 1,
>>>>>>> 0e7f6456a4f8bd941fdd72bb32e5f9ef5e91893d
   "metadata": {},
   "source": [
    "# Imports"
   ]
  },
  {
   "cell_type": "code",
   "execution_count": 4,
   "metadata": {
    "ExecuteTime": {
     "end_time": "2019-02-09T03:58:37.655679Z",
     "start_time": "2019-02-09T03:58:37.651689Z"
    }
   },
   "outputs": [],
   "source": [
    "import pandas as pd\n",
    "import requests as req\n",
    "import json\n",
    "import tweepy\n",
    "import re"
   ]
  },
  {
   "cell_type": "markdown",
   "metadata": {},
   "source": [
    "# Coleta"
   ]
  },
  {
   "cell_type": "markdown",
   "metadata": {},
   "source": [
    "## Arquivo csv de tweets"
   ]
  },
  {
   "cell_type": "code",
   "execution_count": 2,
   "metadata": {},
   "outputs": [],
   "source": [
    "tweets_csv = pd.read_csv(\"twitter-archive-enhanced.csv\")"
   ]
  },
  {
   "cell_type": "code",
   "execution_count": 3,
   "metadata": {},
   "outputs": [
    {
     "name": "stdout",
     "output_type": "stream",
     "text": [
      "<class 'pandas.core.frame.DataFrame'>\n",
      "RangeIndex: 2356 entries, 0 to 2355\n",
      "Data columns (total 17 columns):\n",
      "tweet_id                      2356 non-null int64\n",
      "in_reply_to_status_id         78 non-null float64\n",
      "in_reply_to_user_id           78 non-null float64\n",
      "timestamp                     2356 non-null object\n",
      "source                        2356 non-null object\n",
      "text                          2356 non-null object\n",
      "retweeted_status_id           181 non-null float64\n",
      "retweeted_status_user_id      181 non-null float64\n",
      "retweeted_status_timestamp    181 non-null object\n",
      "expanded_urls                 2297 non-null object\n",
      "rating_numerator              2356 non-null int64\n",
      "rating_denominator            2356 non-null int64\n",
      "name                          2356 non-null object\n",
      "doggo                         2356 non-null object\n",
      "floofer                       2356 non-null object\n",
      "pupper                        2356 non-null object\n",
      "puppo                         2356 non-null object\n",
      "dtypes: float64(4), int64(3), object(10)\n",
      "memory usage: 313.0+ KB\n"
     ]
    }
   ],
   "source": [
    "tweets_csv.info()"
   ]
  },
  {
   "cell_type": "markdown",
   "metadata": {},
   "source": [
    "## Arquivo csv com as imagens de catioros"
   ]
  },
  {
   "cell_type": "code",
   "execution_count": 4,
   "metadata": {},
   "outputs": [],
   "source": [
    "url_imagens = \"https://d17h27t6h515a5.cloudfront.net/topher/2017/August/599fd2ad_image-predictions/image-predictions.tsv\"\n",
    "imagens = pd.read_csv(url_imagens, sep='\\t')"
   ]
  },
  {
   "cell_type": "markdown",
   "metadata": {},
   "source": [
    "## Extração de dados de dados através da tweepy"
   ]
  },
  {
   "cell_type": "code",
   "execution_count": 256,
   "metadata": {},
   "outputs": [],
   "source": [
    "tweepy.api.wait_on_rate_limit = True\n",
    "tweepy.api.wait_on_rate_limit_notify = True\n",
    "consumer_key = \"jDCXqOTGUFOLYhva104lu2mh6\"\n",
    "consumer_secret = \"WAPwLXLz1nAQj9nlLS3wySdyOkB90MnzilhkbxZfZz7RomxvrA\"\n",
    "access_token = \"3057900345-XEe3BgtH7PuDg0ExtBFsmrBpBphONnG4SXUUiir\"\n",
    "access_token_secret = \"ZLgmkF8iBRFb61v341adAnPJwJIb3bgV1FJK0ulYDEdiU\"\n",
    "auth = tweepy.OAuthHandler(consumer_key, consumer_secret)\n",
    "auth.set_access_token(access_token, access_token_secret)\n",
    "api = tweepy.API(auth)"
   ]
  },
  {
   "cell_type": "markdown",
   "metadata": {},
   "source": [
    "## Extracao dos tweets"
   ]
  },
  {
   "cell_type": "code",
   "execution_count": 257,
   "metadata": {
    "scrolled": true
   },
   "outputs": [],
   "source": [
    "#tweets_json = []\n",
    "#for id_tweet in tweets.tweet_id:\n",
    "#    try:\n",
    "#        tweet = api.get_status(id_tweet, tweet_mode='extended')._json\n",
    "#        tweets_json.append(tweet)\n",
    "#    except tweepy.TweepError:\n",
    "#        continue"
   ]
  },
  {
   "cell_type": "markdown",
   "metadata": {},
   "source": [
    "### Salvamento dos tweets"
   ]
  },
  {
   "cell_type": "markdown",
   "metadata": {},
   "source": [
    "A especifição do projeto fala para o arquivo ser guardado no formato .txt, com os dados de cada tweet sendo escrido em um linha. Eu optei por manter o formato .json "
   ]
  },
  {
   "cell_type": "code",
   "execution_count": 258,
   "metadata": {},
   "outputs": [],
   "source": [
    "#with open(\"tweets.json\",\"w\") as file:\n",
    "#    json.dump(tweets_json, file)"
   ]
  },
  {
   "cell_type": "markdown",
   "metadata": {},
   "source": [
    "## Carregamento dos tweets"
   ]
  },
  {
   "cell_type": "code",
   "execution_count": 259,
   "metadata": {},
   "outputs": [],
   "source": [
    "tweets_json = pd.read_json(\"tweets.json\")[[\"id\",\"created_at\",\"favorite_count\",\"retweet_count\"]]"
   ]
  },
  {
   "cell_type": "markdown",
   "metadata": {},
   "source": [
    "# Avaliação"
   ]
  },
  {
   "cell_type": "code",
   "execution_count": 260,
   "metadata": {},
   "outputs": [
    {
     "name": "stdout",
     "output_type": "stream",
     "text": [
      "<class 'pandas.core.frame.DataFrame'>\n",
      "RangeIndex: 2356 entries, 0 to 2355\n",
      "Data columns (total 17 columns):\n",
      "tweet_id                      2356 non-null int64\n",
      "in_reply_to_status_id         78 non-null float64\n",
      "in_reply_to_user_id           78 non-null float64\n",
      "timestamp                     2356 non-null object\n",
      "source                        2356 non-null object\n",
      "text                          2356 non-null object\n",
      "retweeted_status_id           181 non-null float64\n",
      "retweeted_status_user_id      181 non-null float64\n",
      "retweeted_status_timestamp    181 non-null object\n",
      "expanded_urls                 2297 non-null object\n",
      "rating_numerator              2356 non-null int64\n",
      "rating_denominator            2356 non-null int64\n",
      "name                          2356 non-null object\n",
      "doggo                         2356 non-null object\n",
      "floofer                       2356 non-null object\n",
      "pupper                        2356 non-null object\n",
      "puppo                         2356 non-null object\n",
      "dtypes: float64(4), int64(3), object(10)\n",
      "memory usage: 313.0+ KB\n"
     ]
    }
   ],
   "source": [
    "tweets_csv.info()"
   ]
  },
  {
   "cell_type": "code",
   "execution_count": 261,
   "metadata": {},
   "outputs": [
    {
     "data": {
      "text/html": [
       "<div>\n",
       "<style scoped>\n",
       "    .dataframe tbody tr th:only-of-type {\n",
       "        vertical-align: middle;\n",
       "    }\n",
       "\n",
       "    .dataframe tbody tr th {\n",
       "        vertical-align: top;\n",
       "    }\n",
       "\n",
       "    .dataframe thead th {\n",
       "        text-align: right;\n",
       "    }\n",
       "</style>\n",
       "<table border=\"1\" class=\"dataframe\">\n",
       "  <thead>\n",
       "    <tr style=\"text-align: right;\">\n",
       "      <th></th>\n",
       "      <th>tweet_id</th>\n",
       "      <th>in_reply_to_status_id</th>\n",
       "      <th>in_reply_to_user_id</th>\n",
       "      <th>timestamp</th>\n",
       "      <th>source</th>\n",
       "      <th>text</th>\n",
       "      <th>retweeted_status_id</th>\n",
       "      <th>retweeted_status_user_id</th>\n",
       "      <th>retweeted_status_timestamp</th>\n",
       "      <th>expanded_urls</th>\n",
       "      <th>rating_numerator</th>\n",
       "      <th>rating_denominator</th>\n",
       "      <th>name</th>\n",
       "      <th>doggo</th>\n",
       "      <th>floofer</th>\n",
       "      <th>pupper</th>\n",
       "      <th>puppo</th>\n",
       "    </tr>\n",
       "  </thead>\n",
       "  <tbody>\n",
       "    <tr>\n",
       "      <th>0</th>\n",
       "      <td>892420643555336193</td>\n",
       "      <td>NaN</td>\n",
       "      <td>NaN</td>\n",
       "      <td>2017-08-01 16:23:56 +0000</td>\n",
       "      <td>&lt;a href=\"http://twitter.com/download/iphone\" r...</td>\n",
       "      <td>This is Phineas. He's a mystical boy. Only eve...</td>\n",
       "      <td>NaN</td>\n",
       "      <td>NaN</td>\n",
       "      <td>NaN</td>\n",
       "      <td>https://twitter.com/dog_rates/status/892420643...</td>\n",
       "      <td>13</td>\n",
       "      <td>10</td>\n",
       "      <td>Phineas</td>\n",
       "      <td>None</td>\n",
       "      <td>None</td>\n",
       "      <td>None</td>\n",
       "      <td>None</td>\n",
       "    </tr>\n",
       "    <tr>\n",
       "      <th>1</th>\n",
       "      <td>892177421306343426</td>\n",
       "      <td>NaN</td>\n",
       "      <td>NaN</td>\n",
       "      <td>2017-08-01 00:17:27 +0000</td>\n",
       "      <td>&lt;a href=\"http://twitter.com/download/iphone\" r...</td>\n",
       "      <td>This is Tilly. She's just checking pup on you....</td>\n",
       "      <td>NaN</td>\n",
       "      <td>NaN</td>\n",
       "      <td>NaN</td>\n",
       "      <td>https://twitter.com/dog_rates/status/892177421...</td>\n",
       "      <td>13</td>\n",
       "      <td>10</td>\n",
       "      <td>Tilly</td>\n",
       "      <td>None</td>\n",
       "      <td>None</td>\n",
       "      <td>None</td>\n",
       "      <td>None</td>\n",
       "    </tr>\n",
       "    <tr>\n",
       "      <th>2</th>\n",
       "      <td>891815181378084864</td>\n",
       "      <td>NaN</td>\n",
       "      <td>NaN</td>\n",
       "      <td>2017-07-31 00:18:03 +0000</td>\n",
       "      <td>&lt;a href=\"http://twitter.com/download/iphone\" r...</td>\n",
       "      <td>This is Archie. He is a rare Norwegian Pouncin...</td>\n",
       "      <td>NaN</td>\n",
       "      <td>NaN</td>\n",
       "      <td>NaN</td>\n",
       "      <td>https://twitter.com/dog_rates/status/891815181...</td>\n",
       "      <td>12</td>\n",
       "      <td>10</td>\n",
       "      <td>Archie</td>\n",
       "      <td>None</td>\n",
       "      <td>None</td>\n",
       "      <td>None</td>\n",
       "      <td>None</td>\n",
       "    </tr>\n",
       "    <tr>\n",
       "      <th>3</th>\n",
       "      <td>891689557279858688</td>\n",
       "      <td>NaN</td>\n",
       "      <td>NaN</td>\n",
       "      <td>2017-07-30 15:58:51 +0000</td>\n",
       "      <td>&lt;a href=\"http://twitter.com/download/iphone\" r...</td>\n",
       "      <td>This is Darla. She commenced a snooze mid meal...</td>\n",
       "      <td>NaN</td>\n",
       "      <td>NaN</td>\n",
       "      <td>NaN</td>\n",
       "      <td>https://twitter.com/dog_rates/status/891689557...</td>\n",
       "      <td>13</td>\n",
       "      <td>10</td>\n",
       "      <td>Darla</td>\n",
       "      <td>None</td>\n",
       "      <td>None</td>\n",
       "      <td>None</td>\n",
       "      <td>None</td>\n",
       "    </tr>\n",
       "    <tr>\n",
       "      <th>4</th>\n",
       "      <td>891327558926688256</td>\n",
       "      <td>NaN</td>\n",
       "      <td>NaN</td>\n",
       "      <td>2017-07-29 16:00:24 +0000</td>\n",
       "      <td>&lt;a href=\"http://twitter.com/download/iphone\" r...</td>\n",
       "      <td>This is Franklin. He would like you to stop ca...</td>\n",
       "      <td>NaN</td>\n",
       "      <td>NaN</td>\n",
       "      <td>NaN</td>\n",
       "      <td>https://twitter.com/dog_rates/status/891327558...</td>\n",
       "      <td>12</td>\n",
       "      <td>10</td>\n",
       "      <td>Franklin</td>\n",
       "      <td>None</td>\n",
       "      <td>None</td>\n",
       "      <td>None</td>\n",
       "      <td>None</td>\n",
       "    </tr>\n",
       "  </tbody>\n",
       "</table>\n",
       "</div>"
      ],
      "text/plain": [
       "             tweet_id  in_reply_to_status_id  in_reply_to_user_id  \\\n",
       "0  892420643555336193                    NaN                  NaN   \n",
       "1  892177421306343426                    NaN                  NaN   \n",
       "2  891815181378084864                    NaN                  NaN   \n",
       "3  891689557279858688                    NaN                  NaN   \n",
       "4  891327558926688256                    NaN                  NaN   \n",
       "\n",
       "                   timestamp  \\\n",
       "0  2017-08-01 16:23:56 +0000   \n",
       "1  2017-08-01 00:17:27 +0000   \n",
       "2  2017-07-31 00:18:03 +0000   \n",
       "3  2017-07-30 15:58:51 +0000   \n",
       "4  2017-07-29 16:00:24 +0000   \n",
       "\n",
       "                                              source  \\\n",
       "0  <a href=\"http://twitter.com/download/iphone\" r...   \n",
       "1  <a href=\"http://twitter.com/download/iphone\" r...   \n",
       "2  <a href=\"http://twitter.com/download/iphone\" r...   \n",
       "3  <a href=\"http://twitter.com/download/iphone\" r...   \n",
       "4  <a href=\"http://twitter.com/download/iphone\" r...   \n",
       "\n",
       "                                                text  retweeted_status_id  \\\n",
       "0  This is Phineas. He's a mystical boy. Only eve...                  NaN   \n",
       "1  This is Tilly. She's just checking pup on you....                  NaN   \n",
       "2  This is Archie. He is a rare Norwegian Pouncin...                  NaN   \n",
       "3  This is Darla. She commenced a snooze mid meal...                  NaN   \n",
       "4  This is Franklin. He would like you to stop ca...                  NaN   \n",
       "\n",
       "   retweeted_status_user_id retweeted_status_timestamp  \\\n",
       "0                       NaN                        NaN   \n",
       "1                       NaN                        NaN   \n",
       "2                       NaN                        NaN   \n",
       "3                       NaN                        NaN   \n",
       "4                       NaN                        NaN   \n",
       "\n",
       "                                       expanded_urls  rating_numerator  \\\n",
       "0  https://twitter.com/dog_rates/status/892420643...                13   \n",
       "1  https://twitter.com/dog_rates/status/892177421...                13   \n",
       "2  https://twitter.com/dog_rates/status/891815181...                12   \n",
       "3  https://twitter.com/dog_rates/status/891689557...                13   \n",
       "4  https://twitter.com/dog_rates/status/891327558...                12   \n",
       "\n",
       "   rating_denominator      name doggo floofer pupper puppo  \n",
       "0                  10   Phineas  None    None   None  None  \n",
       "1                  10     Tilly  None    None   None  None  \n",
       "2                  10    Archie  None    None   None  None  \n",
       "3                  10     Darla  None    None   None  None  \n",
       "4                  10  Franklin  None    None   None  None  "
      ]
     },
     "execution_count": 261,
     "metadata": {},
     "output_type": "execute_result"
    }
   ],
   "source": [
    "tweets_csv.head()"
   ]
  },
  {
   "cell_type": "code",
   "execution_count": 262,
   "metadata": {},
   "outputs": [
    {
     "data": {
      "text/plain": [
       "None       745\n",
       "a           55\n",
       "Charlie     12\n",
       "Oliver      11\n",
       "Cooper      11\n",
       "Lucy        11\n",
       "Lola        10\n",
       "Tucker      10\n",
       "Penny       10\n",
       "Winston      9\n",
       "Bo           9\n",
       "Sadie        8\n",
       "the          8\n",
       "an           7\n",
       "Buddy        7\n",
       "Daisy        7\n",
       "Bailey       7\n",
       "Toby         7\n",
       "Jax          6\n",
       "Leo          6\n",
       "Name: name, dtype: int64"
      ]
     },
     "execution_count": 262,
     "metadata": {},
     "output_type": "execute_result"
    }
   ],
   "source": [
    "tweets_csv.name.value_counts()[:20]"
   ]
  },
  {
   "cell_type": "code",
   "execution_count": 263,
   "metadata": {},
   "outputs": [
    {
     "data": {
      "text/plain": [
       "'https://twitter.com/dog_rates/status/891327558926688256/photo/1,https://twitter.com/dog_rates/status/891327558926688256/photo/1'"
      ]
     },
     "execution_count": 263,
     "metadata": {},
     "output_type": "execute_result"
    }
   ],
   "source": [
    "tweets_csv.expanded_urls[4]"
   ]
  },
  {
   "cell_type": "code",
   "execution_count": 264,
   "metadata": {},
   "outputs": [
    {
     "data": {
      "text/plain": [
       "array([nan, nan, nan, nan, True, nan, nan, nan, nan, nan], dtype=object)"
      ]
     },
     "execution_count": 264,
     "metadata": {},
     "output_type": "execute_result"
    }
   ],
   "source": [
    "tweets_csv.retweeted_status_timestamp.str.contains(\"[a-zA-Z]*\").values[15:25]"
   ]
  },
  {
   "cell_type": "code",
   "execution_count": 265,
   "metadata": {},
   "outputs": [
    {
     "data": {
      "text/plain": [
       "tweet_id                                                     883482846933004288\n",
       "in_reply_to_status_id                                                       NaN\n",
       "in_reply_to_user_id                                                         NaN\n",
       "timestamp                                             2017-07-08 00:28:19 +0000\n",
       "source                        <a href=\"http://twitter.com/download/iphone\" r...\n",
       "text                          This is Bella. She hopes her smile made you sm...\n",
       "retweeted_status_id                                                         NaN\n",
       "retweeted_status_user_id                                                    NaN\n",
       "retweeted_status_timestamp                                                  NaN\n",
       "expanded_urls                 https://twitter.com/dog_rates/status/883482846...\n",
       "rating_numerator                                                              5\n",
       "rating_denominator                                                           10\n",
       "name                                                                      Bella\n",
       "doggo                                                                      None\n",
       "floofer                                                                    None\n",
       "pupper                                                                     None\n",
       "puppo                                                                      None\n",
       "Name: 45, dtype: object"
      ]
     },
     "execution_count": 265,
     "metadata": {},
     "output_type": "execute_result"
    }
   ],
   "source": [
    "tweets_csv[tweets_csv.rating_numerator < 10].iloc[0]"
   ]
  },
  {
   "cell_type": "code",
   "execution_count": 266,
   "metadata": {},
   "outputs": [
    {
     "data": {
      "text/plain": [
       "tweet_id                                                     835152434251116546\n",
       "in_reply_to_status_id                                                       NaN\n",
       "in_reply_to_user_id                                                         NaN\n",
       "timestamp                                             2017-02-24 15:40:31 +0000\n",
       "source                        <a href=\"http://twitter.com/download/iphone\" r...\n",
       "text                          When you're so blinded by your systematic plag...\n",
       "retweeted_status_id                                                         NaN\n",
       "retweeted_status_user_id                                                    NaN\n",
       "retweeted_status_timestamp                                                  NaN\n",
       "expanded_urls                 https://twitter.com/dog_rates/status/835152434...\n",
       "rating_numerator                                                              0\n",
       "rating_denominator                                                           10\n",
       "name                                                                       None\n",
       "doggo                                                                      None\n",
       "floofer                                                                    None\n",
       "pupper                                                                     None\n",
       "puppo                                                                      None\n",
       "Name: 315, dtype: object"
      ]
     },
     "execution_count": 266,
     "metadata": {},
     "output_type": "execute_result"
    }
   ],
   "source": [
    "tweets_csv.sort_values(by=\"rating_numerator\").iloc[0]"
   ]
  },
  {
   "cell_type": "code",
   "execution_count": 267,
   "metadata": {},
   "outputs": [
    {
     "data": {
      "text/plain": [
       "\"@jonnysun @Lin_Manuel ok jomny I know you're excited but 960/00 isn't a valid rating, 13/10 is tho\""
      ]
     },
     "execution_count": 267,
     "metadata": {},
     "output_type": "execute_result"
    }
   ],
   "source": [
    "tweets_csv[tweets_csv.rating_denominator != 10].head(3).iloc[0][5]"
   ]
  },
  {
   "cell_type": "markdown",
   "metadata": {},
   "source": [
    "## Qualidade \n",
    "### Tabela *tweets_csv*\n",
    "\n",
    "- *timestamp* com o formato errado\n",
    "- *retweeted_status_user_id* e *retweeted_status_id* com dados faltantes\n",
    "- *name* possui palavras que não são nome próprios - a, an \n",
    "- *expanded_urls* está com os valores invalidos\n",
    "- *expanded_urls* com dados faltantes\n",
    "- *retweeted_status_timestamp* está com dados inválidos\n",
    "- *rating_numerator* com valores inválidos\n",
    "- *rating_denominator* com valores inválidos\n",
    "\n",
    "## Arrumação\n",
    "### Tabela *tweets_csv*\n",
    "- Variáveis como nome de colunas\n",
    "\n",
    "### Todas as tabelas\n",
    "- Uma mesma unidade observacional separada em 3 tabelas"
   ]
  },
  {
   "cell_type": "markdown",
   "metadata": {},
   "source": [
    "# Limpeza"
   ]
  },
  {
   "cell_type": "markdown",
   "metadata": {},
   "source": [
    "## Qualidade"
   ]
  },
  {
   "cell_type": "markdown",
   "metadata": {},
   "source": [
    "### 1 - `tweets_csv`: Variável *timestamp* com o formato errado"
   ]
  },
  {
   "cell_type": "markdown",
   "metadata": {},
   "source": [
    "#### Definição"
   ]
  },
  {
   "cell_type": "markdown",
   "metadata": {},
   "source": [
    "Trocar o formato de *timestamp* pra pd.datetime"
   ]
  },
  {
   "cell_type": "markdown",
   "metadata": {},
   "source": [
    "#### Código"
   ]
  },
  {
   "cell_type": "code",
   "execution_count": 268,
   "metadata": {},
   "outputs": [],
   "source": [
    "tweets_csv_copy = tweets_csv.copy()"
   ]
  },
  {
   "cell_type": "code",
   "execution_count": 269,
   "metadata": {},
   "outputs": [],
   "source": [
    "def get_data(string):\n",
    "    string = string[:10].split(\"-\")\n",
    "    return pd.datetime(int(string[0]), int(string[1]), int(string[2]))"
   ]
  },
  {
   "cell_type": "code",
   "execution_count": 270,
   "metadata": {},
   "outputs": [],
   "source": [
    "tweets_csv_copy.timestamp = tweets_csv_copy.timestamp.apply(get_data)"
   ]
  },
  {
   "cell_type": "markdown",
   "metadata": {},
   "source": [
    "#### Teste"
   ]
  },
  {
   "cell_type": "code",
   "execution_count": 271,
   "metadata": {},
   "outputs": [
    {
     "name": "stdout",
     "output_type": "stream",
     "text": [
      "<class 'pandas.core.frame.DataFrame'>\n",
      "RangeIndex: 2356 entries, 0 to 2355\n",
      "Data columns (total 17 columns):\n",
      "tweet_id                      2356 non-null int64\n",
      "in_reply_to_status_id         78 non-null float64\n",
      "in_reply_to_user_id           78 non-null float64\n",
      "timestamp                     2356 non-null datetime64[ns]\n",
      "source                        2356 non-null object\n",
      "text                          2356 non-null object\n",
      "retweeted_status_id           181 non-null float64\n",
      "retweeted_status_user_id      181 non-null float64\n",
      "retweeted_status_timestamp    181 non-null object\n",
      "expanded_urls                 2297 non-null object\n",
      "rating_numerator              2356 non-null int64\n",
      "rating_denominator            2356 non-null int64\n",
      "name                          2356 non-null object\n",
      "doggo                         2356 non-null object\n",
      "floofer                       2356 non-null object\n",
      "pupper                        2356 non-null object\n",
      "puppo                         2356 non-null object\n",
      "dtypes: datetime64[ns](1), float64(4), int64(3), object(9)\n",
      "memory usage: 313.0+ KB\n"
     ]
    }
   ],
   "source": [
    "tweets_csv_copy.info()"
   ]
  },
  {
   "cell_type": "code",
   "execution_count": 272,
   "metadata": {},
   "outputs": [],
   "source": [
    "tweets_csv = tweets_csv_copy.copy()"
   ]
  },
  {
   "cell_type": "markdown",
   "metadata": {},
   "source": [
    "### `tweets_csv`: tweet_id está com formato diferente de retweeted_status_user_id e retweeted_status_id"
   ]
  },
  {
   "cell_type": "markdown",
   "metadata": {},
   "source": [
<<<<<<< HEAD
=======
    "### 2- `tweets_csv`: *tweet_id* está com formato diferente de *retweeted_status_user_id* e *retweeted_status_id*"
   ]
  },
  {
   "cell_type": "markdown",
   "metadata": {},
   "source": [
>>>>>>> 0e7f6456a4f8bd941fdd72bb32e5f9ef5e91893d
    "#### Definição"
   ]
  },
  {
   "cell_type": "markdown",
   "metadata": {},
   "source": [
<<<<<<< HEAD
    "Colocar as 3 colunas com o formato str"
=======
    "Extrair as linha com nan em *retweet_status_user_id* e *retweeted_status_id* e excluir essa colunas"
>>>>>>> 0e7f6456a4f8bd941fdd72bb32e5f9ef5e91893d
   ]
  },
  {
   "cell_type": "markdown",
   "metadata": {},
   "source": [
    "#### Código:"
   ]
  },
  {
   "cell_type": "code",
   "execution_count": 273,
   "metadata": {},
   "outputs": [],
   "source": [
    "tweets_csv_copy = tweets_csv.copy()"
   ]
  },
  {
   "cell_type": "code",
   "execution_count": 274,
   "metadata": {},
   "outputs": [],
   "source": [
    "tweets_csv_copy = tweets_csv_copy[tweets_csv_copy.isna()[\"retweeted_status_user_id\"]]"
   ]
  },
  {
   "cell_type": "code",
   "execution_count": 275,
   "metadata": {},
   "outputs": [],
   "source": [
    "tweets_csv_copy.drop(labels=[\"retweeted_status_user_id\",\"retweeted_status_id\"],axis=1,inplace=True)"
   ]
  },
  {
   "cell_type": "markdown",
   "metadata": {},
   "source": [
    "#### Teste"
   ]
  },
  {
   "cell_type": "code",
   "execution_count": 276,
   "metadata": {},
   "outputs": [
    {
     "name": "stdout",
     "output_type": "stream",
     "text": [
      "<class 'pandas.core.frame.DataFrame'>\n",
      "Int64Index: 2175 entries, 0 to 2355\n",
      "Data columns (total 15 columns):\n",
      "tweet_id                      2175 non-null int64\n",
      "in_reply_to_status_id         78 non-null float64\n",
      "in_reply_to_user_id           78 non-null float64\n",
      "timestamp                     2175 non-null datetime64[ns]\n",
      "source                        2175 non-null object\n",
      "text                          2175 non-null object\n",
      "retweeted_status_timestamp    0 non-null object\n",
      "expanded_urls                 2117 non-null object\n",
      "rating_numerator              2175 non-null int64\n",
      "rating_denominator            2175 non-null int64\n",
      "name                          2175 non-null object\n",
      "doggo                         2175 non-null object\n",
      "floofer                       2175 non-null object\n",
      "pupper                        2175 non-null object\n",
      "puppo                         2175 non-null object\n",
      "dtypes: datetime64[ns](1), float64(2), int64(3), object(9)\n",
      "memory usage: 271.9+ KB\n"
     ]
    }
   ],
   "source": [
    "tweets_csv_copy.info()"
   ]
  },
  {
   "cell_type": "code",
   "execution_count": 277,
   "metadata": {},
   "outputs": [],
   "source": [
    "tweets_csv = tweets_csv_copy.copy()"
   ]
  },
  {
   "cell_type": "markdown",
   "metadata": {
    "heading_collapsed": true
   },
   "source": [
    "### `tweets_csv`: *name* possui palavras que não são nomes próprios - a, an"
   ]
  },
  {
   "cell_type": "markdown",
   "metadata": {
    "heading_collapsed": true,
    "hidden": true
   },
   "source": [
<<<<<<< HEAD
    "#### Definição"
=======
    "### 3- `tweets_csv`: *name* possui palavras que não são nomes próprios - a, an"
>>>>>>> 0e7f6456a4f8bd941fdd72bb32e5f9ef5e91893d
   ]
  },
  {
   "cell_type": "markdown",
   "metadata": {
    "hidden": true
   },
   "source": [
    "Trocar os nomes *a* e *an* por nan"
   ]
  },
  {
   "cell_type": "markdown",
   "metadata": {
    "heading_collapsed": true,
    "hidden": true
   },
   "source": [
    "#### Código"
   ]
  },
  {
   "cell_type": "code",
<<<<<<< HEAD
   "execution_count": 62,
   "metadata": {
    "hidden": true
   },
=======
   "execution_count": 278,
   "metadata": {},
>>>>>>> 0e7f6456a4f8bd941fdd72bb32e5f9ef5e91893d
   "outputs": [],
   "source": [
    "tweets_csv_copy = tweets_csv.copy()\n",
    "tweets_csv_copy.name.replace(to_replace=[\"a\",\"an\"],value=pd.np.nan, inplace=True)"
   ]
  },
  {
   "cell_type": "markdown",
   "metadata": {
    "heading_collapsed": true,
    "hidden": true
   },
   "source": [
    "#### Teste"
   ]
  },
  {
   "cell_type": "code",
<<<<<<< HEAD
   "execution_count": 64,
   "metadata": {
    "hidden": true
   },
=======
   "execution_count": 279,
   "metadata": {},
>>>>>>> 0e7f6456a4f8bd941fdd72bb32e5f9ef5e91893d
   "outputs": [
    {
     "data": {
      "text/plain": [
       "None       680\n",
       "Lucy        11\n",
       "Charlie     11\n",
       "Cooper      10\n",
       "Oliver      10\n",
       "Penny        9\n",
       "Tucker       9\n",
       "Lola         8\n",
       "Sadie        8\n",
       "the          8\n",
       "Name: name, dtype: int64"
      ]
     },
     "execution_count": 279,
     "metadata": {},
     "output_type": "execute_result"
    }
   ],
   "source": [
    "tweets_csv_copy.name.value_counts()[:10]"
   ]
  },
  {
   "cell_type": "code",
<<<<<<< HEAD
   "execution_count": 65,
   "metadata": {
    "hidden": true
   },
=======
   "execution_count": 280,
   "metadata": {},
>>>>>>> 0e7f6456a4f8bd941fdd72bb32e5f9ef5e91893d
   "outputs": [],
   "source": [
    "tweets_csv = tweets_csv_copy.copy()"
   ]
  },
  {
   "cell_type": "markdown",
   "metadata": {
    "heading_collapsed": true
   },
   "source": [
    "### 4- `tweets_csv`: *expanded_urls* com dados faltantes"
   ]
  },
  {
   "cell_type": "markdown",
   "metadata": {
    "hidden": true
   },
   "source": [
    "#### Definição"
   ]
  },
  {
   "cell_type": "markdown",
   "metadata": {
    "hidden": true
   },
   "source": [
    "Retirar os linhas com dados faltantes"
   ]
  },
  {
   "cell_type": "markdown",
   "metadata": {
    "heading_collapsed": true,
    "hidden": true
   },
   "source": [
    "#### Código"
   ]
  },
  {
   "cell_type": "code",
<<<<<<< HEAD
   "execution_count": 82,
   "metadata": {
    "hidden": true
   },
=======
   "execution_count": 281,
   "metadata": {},
>>>>>>> 0e7f6456a4f8bd941fdd72bb32e5f9ef5e91893d
   "outputs": [],
   "source": [
    "tweets_csv_copy = tweets_csv.copy()\n",
    "tweets_csv_copy.dropna(subset=[\"expanded_urls\"], inplace=True)"
   ]
  },
  {
   "cell_type": "markdown",
   "metadata": {
    "heading_collapsed": true,
    "hidden": true
   },
   "source": [
    "#### Teste"
   ]
  },
  {
   "cell_type": "code",
<<<<<<< HEAD
   "execution_count": 84,
   "metadata": {
    "hidden": true
   },
=======
   "execution_count": 282,
   "metadata": {},
>>>>>>> 0e7f6456a4f8bd941fdd72bb32e5f9ef5e91893d
   "outputs": [
    {
     "name": "stdout",
     "output_type": "stream",
     "text": [
      "<class 'pandas.core.frame.DataFrame'>\n",
      "Int64Index: 2117 entries, 0 to 2355\n",
      "Data columns (total 15 columns):\n",
      "tweet_id                      2117 non-null int64\n",
      "in_reply_to_status_id         23 non-null float64\n",
      "in_reply_to_user_id           23 non-null float64\n",
      "timestamp                     2117 non-null datetime64[ns]\n",
      "source                        2117 non-null object\n",
      "text                          2117 non-null object\n",
      "retweeted_status_timestamp    0 non-null object\n",
      "expanded_urls                 2117 non-null object\n",
      "rating_numerator              2117 non-null int64\n",
      "rating_denominator            2117 non-null int64\n",
      "name                          2056 non-null object\n",
      "doggo                         2117 non-null object\n",
      "floofer                       2117 non-null object\n",
      "pupper                        2117 non-null object\n",
      "puppo                         2117 non-null object\n",
      "dtypes: datetime64[ns](1), float64(2), int64(3), object(9)\n",
      "memory usage: 264.6+ KB\n"
     ]
    }
   ],
   "source": [
    "tweets_csv_copy.info()"
   ]
  },
  {
   "cell_type": "code",
<<<<<<< HEAD
   "execution_count": 85,
   "metadata": {
    "hidden": true
   },
=======
   "execution_count": 283,
   "metadata": {},
>>>>>>> 0e7f6456a4f8bd941fdd72bb32e5f9ef5e91893d
   "outputs": [],
   "source": [
    "tweets_csv = tweets_csv_copy.copy()"
   ]
  },
  {
   "cell_type": "markdown",
   "metadata": {
    "heading_collapsed": true
   },
   "source": [
    "### 5- `tweets_csv`: *expanded_urls* está com os valores invalidos"
   ]
  },
  {
   "cell_type": "markdown",
   "metadata": {
    "hidden": true
   },
   "source": [
    "#### Definição"
   ]
  },
  {
   "cell_type": "markdown",
   "metadata": {
    "hidden": true
   },
   "source": [
    "Retirar os link repetidos de cada célula da coluna"
   ]
  },
  {
   "cell_type": "markdown",
   "metadata": {
    "hidden": true
   },
   "source": [
    "#### Código"
   ]
  },
  {
   "cell_type": "code",
<<<<<<< HEAD
   "execution_count": 87,
   "metadata": {
    "hidden": true
   },
=======
   "execution_count": 284,
   "metadata": {},
>>>>>>> 0e7f6456a4f8bd941fdd72bb32e5f9ef5e91893d
   "outputs": [],
   "source": [
    "tweets_csv_copy = tweets_csv.copy()\n",
    "tweets_csv_copy.expanded_urls = tweets_csv_copy.expanded_urls.apply(lambda url: \",\".join(set(url.split(\",\"))))"
   ]
  },
  {
   "cell_type": "markdown",
   "metadata": {
    "hidden": true
   },
   "source": [
    "#### Teste"
   ]
  },
  {
   "cell_type": "code",
<<<<<<< HEAD
   "execution_count": 92,
   "metadata": {
    "hidden": true
   },
=======
   "execution_count": 285,
   "metadata": {},
>>>>>>> 0e7f6456a4f8bd941fdd72bb32e5f9ef5e91893d
   "outputs": [
    {
     "data": {
      "text/html": [
       "<div>\n",
       "<style scoped>\n",
       "    .dataframe tbody tr th:only-of-type {\n",
       "        vertical-align: middle;\n",
       "    }\n",
       "\n",
       "    .dataframe tbody tr th {\n",
       "        vertical-align: top;\n",
       "    }\n",
       "\n",
       "    .dataframe thead th {\n",
       "        text-align: right;\n",
       "    }\n",
       "</style>\n",
       "<table border=\"1\" class=\"dataframe\">\n",
       "  <thead>\n",
       "    <tr style=\"text-align: right;\">\n",
       "      <th></th>\n",
       "      <th>tweet_id</th>\n",
       "      <th>in_reply_to_status_id</th>\n",
       "      <th>in_reply_to_user_id</th>\n",
       "      <th>timestamp</th>\n",
       "      <th>source</th>\n",
       "      <th>text</th>\n",
       "      <th>retweeted_status_timestamp</th>\n",
       "      <th>expanded_urls</th>\n",
       "      <th>rating_numerator</th>\n",
       "      <th>rating_denominator</th>\n",
       "      <th>name</th>\n",
       "      <th>doggo</th>\n",
       "      <th>floofer</th>\n",
       "      <th>pupper</th>\n",
       "      <th>puppo</th>\n",
       "    </tr>\n",
       "  </thead>\n",
       "  <tbody>\n",
       "  </tbody>\n",
       "</table>\n",
       "</div>"
      ],
      "text/plain": [
       "Empty DataFrame\n",
       "Columns: [tweet_id, in_reply_to_status_id, in_reply_to_user_id, timestamp, source, text, retweeted_status_timestamp, expanded_urls, rating_numerator, rating_denominator, name, doggo, floofer, pupper, puppo]\n",
       "Index: []"
      ]
     },
     "execution_count": 285,
     "metadata": {},
     "output_type": "execute_result"
    }
   ],
   "source": [
    "tweets_csv_copy[tweets_csv_copy.expanded_urls.apply(lambda url: len(url.split(\",\")) != len(set(url.split(\",\"))))]"
   ]
  },
  {
   "cell_type": "code",
<<<<<<< HEAD
   "execution_count": 93,
   "metadata": {
    "hidden": true
   },
=======
   "execution_count": 286,
   "metadata": {},
>>>>>>> 0e7f6456a4f8bd941fdd72bb32e5f9ef5e91893d
   "outputs": [],
   "source": [
    "tweets_csv = tweets_csv_copy.copy()"
   ]
  },
  {
   "cell_type": "markdown",
   "metadata": {
    "heading_collapsed": true
   },
   "source": [
<<<<<<< HEAD
    "### `tweets_csv`: *retweeted_status_timestamp* está com dados inválidos"
=======
    "### 6- `tweets_csv` *retweeted_status_timestamp* está com dados inválidos"
>>>>>>> 0e7f6456a4f8bd941fdd72bb32e5f9ef5e91893d
   ]
  },
  {
   "cell_type": "markdown",
   "metadata": {
    "hidden": true
   },
   "source": [
    "#### Definição"
   ]
  },
  {
   "cell_type": "markdown",
   "metadata": {
    "hidden": true
   },
   "source": [
    "Retirar a coluna. Essa coluna será criada novamente mais tarde ao ser realizado o merge com a tabela das imagens"
   ]
  },
  {
   "cell_type": "markdown",
   "metadata": {
    "hidden": true
   },
   "source": [
    "#### Código"
   ]
  },
  {
   "cell_type": "code",
<<<<<<< HEAD
   "execution_count": 95,
   "metadata": {
    "hidden": true
   },
=======
   "execution_count": 287,
   "metadata": {},
>>>>>>> 0e7f6456a4f8bd941fdd72bb32e5f9ef5e91893d
   "outputs": [],
   "source": [
    "tweets_csv_copy = tweets_csv.copy()\n",
    "tweets_csv_copy.drop(labels=[\"retweeted_status_timestamp\"],axis=1,inplace=True)"
   ]
  },
  {
   "cell_type": "markdown",
   "metadata": {
    "hidden": true
   },
   "source": [
    "#### Teste"
   ]
  },
  {
   "cell_type": "code",
<<<<<<< HEAD
   "execution_count": 96,
   "metadata": {
    "hidden": true
=======
   "execution_count": 288,
   "metadata": {
    "scrolled": true
>>>>>>> 0e7f6456a4f8bd941fdd72bb32e5f9ef5e91893d
   },
   "outputs": [
    {
     "name": "stdout",
     "output_type": "stream",
     "text": [
      "<class 'pandas.core.frame.DataFrame'>\n",
      "Int64Index: 2117 entries, 0 to 2355\n",
      "Data columns (total 14 columns):\n",
      "tweet_id                 2117 non-null int64\n",
      "in_reply_to_status_id    23 non-null float64\n",
      "in_reply_to_user_id      23 non-null float64\n",
      "timestamp                2117 non-null datetime64[ns]\n",
      "source                   2117 non-null object\n",
      "text                     2117 non-null object\n",
      "expanded_urls            2117 non-null object\n",
      "rating_numerator         2117 non-null int64\n",
      "rating_denominator       2117 non-null int64\n",
      "name                     2056 non-null object\n",
      "doggo                    2117 non-null object\n",
      "floofer                  2117 non-null object\n",
      "pupper                   2117 non-null object\n",
      "puppo                    2117 non-null object\n",
      "dtypes: datetime64[ns](1), float64(2), int64(3), object(8)\n",
      "memory usage: 248.1+ KB\n"
     ]
    }
   ],
   "source": [
    "tweets_csv_copy.info()"
   ]
  },
  {
   "cell_type": "code",
<<<<<<< HEAD
   "execution_count": 99,
   "metadata": {
    "hidden": true
   },
=======
   "execution_count": 289,
   "metadata": {},
>>>>>>> 0e7f6456a4f8bd941fdd72bb32e5f9ef5e91893d
   "outputs": [],
   "source": [
    "tweets_csv = tweets_csv_copy.copy()"
   ]
  },
  {
   "cell_type": "markdown",
   "metadata": {
    "heading_collapsed": true
   },
   "source": [
    "# --------------------------------------------------------------------------------------------------"
   ]
  },
  {
   "cell_type": "markdown",
   "metadata": {},
   "source": [
    "### 7- `tweets_csv`: *rating_numerator* com valores inválidos"
   ]
  },
  {
   "cell_type": "markdown",
   "metadata": {
    "heading_collapsed": true,
    "hidden": true
   },
   "source": [
<<<<<<< HEAD
    "### `tweets_csv`: Retirar as colunas doggo, floofer, pupper e puppo"
=======
    "#### Definição"
>>>>>>> 0e7f6456a4f8bd941fdd72bb32e5f9ef5e91893d
   ]
  },
  {
   "cell_type": "markdown",
   "metadata": {
    "hidden": true
   },
   "source": [
<<<<<<< HEAD
    "#### Definição"
=======
    "Retirar os valores corretos através do coluna *text* usando regex"
>>>>>>> 0e7f6456a4f8bd941fdd72bb32e5f9ef5e91893d
   ]
  },
  {
   "cell_type": "markdown",
   "metadata": {
    "hidden": true
   },
   "source": [
<<<<<<< HEAD
    "Criar uma nova coluna setando o tipo de cachorro de acordo com o que estiver no texto do tweet"
   ]
  },
  {
   "cell_type": "markdown",
   "metadata": {
    "hidden": true
   },
   "source": [
=======
>>>>>>> 0e7f6456a4f8bd941fdd72bb32e5f9ef5e91893d
    "#### Código"
   ]
  },
  {
   "cell_type": "code",
<<<<<<< HEAD
   "execution_count": 94,
   "metadata": {
    "hidden": true
   },
=======
   "execution_count": 294,
   "metadata": {},
>>>>>>> 0e7f6456a4f8bd941fdd72bb32e5f9ef5e91893d
   "outputs": [],
   "source": [
    "tweets_csv_copy = tweets_csv.copy()"
   ]
  },
  {
<<<<<<< HEAD
   "cell_type": "markdown",
   "metadata": {
    "hidden": true
   },
   "source": [
    "#### Teste"
=======
   "cell_type": "code",
   "execution_count": 295,
   "metadata": {},
   "outputs": [],
   "source": [
    "tweets_csv_copy.rating_numerator = tweets_csv_copy.text.str.extract(\"([0-9]*?\\.?[0-9]*?)/[0-9]+\")"
>>>>>>> 0e7f6456a4f8bd941fdd72bb32e5f9ef5e91893d
   ]
  },
  {
   "cell_type": "code",
<<<<<<< HEAD
   "execution_count": 107,
   "metadata": {
    "hidden": true
=======
   "execution_count": 296,
   "metadata": {},
   "outputs": [],
   "source": [
    "tweets_csv_copy.rating_numerator = tweets_csv_copy.rating_numerator.astype(\"float\")"
   ]
  },
  {
   "cell_type": "markdown",
   "metadata": {},
   "source": [
    "#### Teste"
   ]
  },
  {
   "cell_type": "code",
   "execution_count": 297,
   "metadata": {
    "scrolled": true
>>>>>>> 0e7f6456a4f8bd941fdd72bb32e5f9ef5e91893d
   },
   "outputs": [
    {
     "data": {
      "text/plain": [
       "45      13.5\n",
       "229      6.0\n",
       "315      0.0\n",
       "730      5.0\n",
       "765      3.0\n",
       "814      7.0\n",
       "835      8.0\n",
       "845      9.0\n",
       "859      8.0\n",
       "883      4.0\n",
       "896      7.0\n",
       "906      9.0\n",
       "912      4.0\n",
       "915      8.0\n",
       "936      8.0\n",
       "946      9.0\n",
       "948      8.0\n",
       "956      5.0\n",
       "964      8.0\n",
       "966      9.0\n",
       "987      8.0\n",
       "993      6.0\n",
       "998      7.0\n",
       "1002     8.0\n",
       "1004     4.0\n",
       "1016     0.0\n",
       "1025     0.9\n",
       "1029     7.0\n",
       "1031     9.0\n",
       "1035     9.0\n",
       "        ... \n",
       "2312     5.0\n",
       "2314     8.0\n",
       "2315     8.0\n",
       "2316     4.0\n",
       "2317     9.0\n",
       "2319     9.0\n",
       "2320     7.0\n",
       "2322     6.0\n",
       "2323     7.0\n",
       "2326     2.0\n",
       "2327     7.0\n",
       "2328     9.0\n",
       "2330     6.0\n",
       "2331     8.0\n",
       "2333     9.0\n",
       "2334     3.0\n",
       "2335     1.0\n",
       "2338     1.0\n",
       "2340     8.0\n",
       "2341     9.0\n",
       "2342     6.0\n",
       "2344     9.0\n",
       "2346     8.0\n",
       "2347     9.0\n",
       "2349     2.0\n",
       "2351     5.0\n",
       "2352     6.0\n",
       "2353     9.0\n",
       "2354     7.0\n",
       "2355     8.0\n",
       "Name: rating_numerator, Length: 421, dtype: float64"
      ]
     },
     "execution_count": 297,
     "metadata": {},
     "output_type": "execute_result"
    }
   ],
   "source": [
    "tweets_csv_copy.loc[tweets_csv[tweets_csv.rating_numerator < 10].index].rating_numerator"
   ]
  },
  {
   "cell_type": "code",
   "execution_count": 298,
   "metadata": {},
   "outputs": [],
   "source": [
    "tweets_csv = tweets_csv_copy.copy()"
   ]
  },
  {
   "cell_type": "markdown",
   "metadata": {},
   "source": [
    "# -----------------------------------------------------------------------------------------------"
   ]
  },
  {
   "cell_type": "markdown",
   "metadata": {},
   "source": [
    "### 8- `tweets_csv`: *rating_denominator* com valores inválidos"
   ]
  },
  {
   "cell_type": "markdown",
   "metadata": {},
   "source": [
    "#### Definição"
   ]
  },
  {
   "cell_type": "markdown",
   "metadata": {},
   "source": [
    "Retirar os valores corretos de *text* usando regex"
   ]
  },
  {
   "cell_type": "markdown",
   "metadata": {},
   "source": [
    "#### Código"
   ]
  },
  {
   "cell_type": "code",
   "execution_count": 299,
   "metadata": {},
   "outputs": [],
   "source": [
    "tweets_csv_copy = tweets_csv.copy()"
   ]
  },
  {
   "cell_type": "code",
   "execution_count": 300,
   "metadata": {},
   "outputs": [],
   "source": [
    "tweets_csv_copy.rating_denominator = tweets_csv_copy.text.str.extract(\"[0-9]+\\.?[0-9]*?/([0-9]+)\")"
   ]
  },
  {
   "cell_type": "code",
   "execution_count": 301,
   "metadata": {},
   "outputs": [],
   "source": [
    "tweets_csv_copy.rating_denominator = tweets_csv_copy.rating_denominator.astype(\"int\")"
   ]
  },
  {
   "cell_type": "markdown",
   "metadata": {},
   "source": [
    "#### Teste"
   ]
  },
  {
   "cell_type": "code",
   "execution_count": 302,
   "metadata": {},
   "outputs": [
    {
     "data": {
      "text/plain": [
       "0       10\n",
       "1       10\n",
       "2       10\n",
       "3       10\n",
       "4       10\n",
       "5       10\n",
       "6       10\n",
       "7       10\n",
       "8       10\n",
       "9       10\n",
       "10      10\n",
       "11      10\n",
       "12      10\n",
       "13      10\n",
       "14      10\n",
       "15      10\n",
       "16      10\n",
       "17      10\n",
       "18      10\n",
       "20      10\n",
       "21      10\n",
       "22      10\n",
       "23      10\n",
       "24      10\n",
       "25      10\n",
       "26      10\n",
       "27      10\n",
       "28      10\n",
       "29      10\n",
       "31      10\n",
       "        ..\n",
       "2326    10\n",
       "2327    10\n",
       "2328    10\n",
       "2329    10\n",
       "2330    10\n",
       "2331    10\n",
       "2332    10\n",
       "2333    10\n",
       "2334    10\n",
       "2335     2\n",
       "2336    10\n",
       "2337    10\n",
       "2338    10\n",
       "2339    10\n",
       "2340    10\n",
       "2341    10\n",
       "2342    10\n",
       "2343    10\n",
       "2344    10\n",
       "2345    10\n",
       "2346    10\n",
       "2347    10\n",
       "2348    10\n",
       "2349    10\n",
       "2350    10\n",
       "2351    10\n",
       "2352    10\n",
       "2353    10\n",
       "2354    10\n",
       "2355    10\n",
       "Name: rating_denominator, Length: 2117, dtype: int64"
      ]
     },
     "execution_count": 302,
     "metadata": {},
     "output_type": "execute_result"
    }
   ],
   "source": [
    "tweets_csv_copy.rating_denominator"
   ]
  },
  {
   "cell_type": "code",
   "execution_count": 303,
   "metadata": {},
   "outputs": [],
   "source": [
    "tweets_csv = tweets_csv_copy.copy()"
   ]
  },
  {
   "cell_type": "markdown",
   "metadata": {},
   "source": [
    "## Arrumação"
   ]
  },
  {
   "cell_type": "code",
   "execution_count": 304,
   "metadata": {},
   "outputs": [],
   "source": [
    "df_master = tweets_csv.copy()"
   ]
  },
  {
   "cell_type": "markdown",
   "metadata": {},
   "source": [
    "### 1 - `tweets_csv`: Variáveis como nomes de colunas  "
   ]
  },
  {
   "cell_type": "markdown",
   "metadata": {},
   "source": [
    "#### Definição"
   ]
  },
  {
   "cell_type": "markdown",
   "metadata": {},
   "source": [
    "Retirar as colunas *doggo*, *floofer*, *pupper* e *puppo*. Criar uma nova coluna setando o tipo de cachorro de acordo com o que estiver no texto do tweet"
   ]
  },
  {
   "cell_type": "markdown",
   "metadata": {},
   "source": [
    "#### Código"
   ]
  },
  {
   "cell_type": "code",
   "execution_count": 305,
   "metadata": {},
   "outputs": [],
   "source": [
    "df_master.drop(labels=['doggo', 'floofer', 'pupper', 'puppo'], axis=1, inplace=True)\n",
    "\n",
    "def get_tipo_de_cachorro(texto):\n",
    "    for tipo in ['doggo', 'floofer', 'pupper', 'puppo']:\n",
    "        if tipo in texto:\n",
    "            return tipo\n",
    "    return pd.np.nan\n",
    "\n",
    "df_master[\"type\"] = df_master.text.apply(get_tipo_de_cachorro)"
   ]
  },
  {
   "cell_type": "markdown",
   "metadata": {},
   "source": [
    "### Teste"
   ]
  },
  {
   "cell_type": "code",
   "execution_count": 307,
   "metadata": {
    "scrolled": true
   },
   "outputs": [
    {
     "data": {
      "text/html": [
       "<div>\n",
       "<style scoped>\n",
       "    .dataframe tbody tr th:only-of-type {\n",
       "        vertical-align: middle;\n",
       "    }\n",
       "\n",
       "    .dataframe tbody tr th {\n",
       "        vertical-align: top;\n",
       "    }\n",
       "\n",
       "    .dataframe thead th {\n",
       "        text-align: right;\n",
       "    }\n",
       "</style>\n",
       "<table border=\"1\" class=\"dataframe\">\n",
       "  <thead>\n",
       "    <tr style=\"text-align: right;\">\n",
       "      <th></th>\n",
       "      <th>tweet_id</th>\n",
       "      <th>in_reply_to_status_id</th>\n",
       "      <th>in_reply_to_user_id</th>\n",
       "      <th>timestamp</th>\n",
       "      <th>source</th>\n",
       "      <th>text</th>\n",
       "      <th>expanded_urls</th>\n",
       "      <th>rating_numerator</th>\n",
       "      <th>rating_denominator</th>\n",
       "      <th>name</th>\n",
       "      <th>type</th>\n",
       "    </tr>\n",
       "  </thead>\n",
       "  <tbody>\n",
       "    <tr>\n",
       "      <th>0</th>\n",
       "      <td>892420643555336193</td>\n",
       "      <td>NaN</td>\n",
       "      <td>NaN</td>\n",
       "      <td>2017-08-01</td>\n",
       "      <td>&lt;a href=\"http://twitter.com/download/iphone\" r...</td>\n",
       "      <td>This is Phineas. He's a mystical boy. Only eve...</td>\n",
       "      <td>https://twitter.com/dog_rates/status/892420643...</td>\n",
       "      <td>13.0</td>\n",
       "      <td>10</td>\n",
       "      <td>Phineas</td>\n",
       "      <td>NaN</td>\n",
       "    </tr>\n",
       "    <tr>\n",
       "      <th>1</th>\n",
       "      <td>892177421306343426</td>\n",
       "      <td>NaN</td>\n",
       "      <td>NaN</td>\n",
       "      <td>2017-08-01</td>\n",
       "      <td>&lt;a href=\"http://twitter.com/download/iphone\" r...</td>\n",
       "      <td>This is Tilly. She's just checking pup on you....</td>\n",
       "      <td>https://twitter.com/dog_rates/status/892177421...</td>\n",
       "      <td>13.0</td>\n",
       "      <td>10</td>\n",
       "      <td>Tilly</td>\n",
       "      <td>NaN</td>\n",
       "    </tr>\n",
       "    <tr>\n",
       "      <th>2</th>\n",
       "      <td>891815181378084864</td>\n",
       "      <td>NaN</td>\n",
       "      <td>NaN</td>\n",
       "      <td>2017-07-31</td>\n",
       "      <td>&lt;a href=\"http://twitter.com/download/iphone\" r...</td>\n",
       "      <td>This is Archie. He is a rare Norwegian Pouncin...</td>\n",
       "      <td>https://twitter.com/dog_rates/status/891815181...</td>\n",
       "      <td>12.0</td>\n",
       "      <td>10</td>\n",
       "      <td>Archie</td>\n",
       "      <td>NaN</td>\n",
       "    </tr>\n",
       "    <tr>\n",
       "      <th>3</th>\n",
       "      <td>891689557279858688</td>\n",
       "      <td>NaN</td>\n",
       "      <td>NaN</td>\n",
       "      <td>2017-07-30</td>\n",
       "      <td>&lt;a href=\"http://twitter.com/download/iphone\" r...</td>\n",
       "      <td>This is Darla. She commenced a snooze mid meal...</td>\n",
       "      <td>https://twitter.com/dog_rates/status/891689557...</td>\n",
       "      <td>13.0</td>\n",
       "      <td>10</td>\n",
       "      <td>Darla</td>\n",
       "      <td>NaN</td>\n",
       "    </tr>\n",
       "    <tr>\n",
       "      <th>4</th>\n",
       "      <td>891327558926688256</td>\n",
       "      <td>NaN</td>\n",
       "      <td>NaN</td>\n",
       "      <td>2017-07-29</td>\n",
       "      <td>&lt;a href=\"http://twitter.com/download/iphone\" r...</td>\n",
       "      <td>This is Franklin. He would like you to stop ca...</td>\n",
       "      <td>https://twitter.com/dog_rates/status/891327558...</td>\n",
       "      <td>12.0</td>\n",
       "      <td>10</td>\n",
       "      <td>Franklin</td>\n",
       "      <td>NaN</td>\n",
       "    </tr>\n",
       "    <tr>\n",
       "      <th>5</th>\n",
       "      <td>891087950875897856</td>\n",
       "      <td>NaN</td>\n",
       "      <td>NaN</td>\n",
       "      <td>2017-07-29</td>\n",
       "      <td>&lt;a href=\"http://twitter.com/download/iphone\" r...</td>\n",
       "      <td>Here we have a majestic great white breaching ...</td>\n",
       "      <td>https://twitter.com/dog_rates/status/891087950...</td>\n",
       "      <td>13.0</td>\n",
       "      <td>10</td>\n",
       "      <td>None</td>\n",
       "      <td>NaN</td>\n",
       "    </tr>\n",
       "    <tr>\n",
       "      <th>6</th>\n",
       "      <td>890971913173991426</td>\n",
       "      <td>NaN</td>\n",
       "      <td>NaN</td>\n",
       "      <td>2017-07-28</td>\n",
       "      <td>&lt;a href=\"http://twitter.com/download/iphone\" r...</td>\n",
       "      <td>Meet Jax. He enjoys ice cream so much he gets ...</td>\n",
       "      <td>https://gofundme.com/ydvmve-surgery-for-jax,ht...</td>\n",
       "      <td>13.0</td>\n",
       "      <td>10</td>\n",
       "      <td>Jax</td>\n",
       "      <td>NaN</td>\n",
       "    </tr>\n",
       "    <tr>\n",
       "      <th>7</th>\n",
       "      <td>890729181411237888</td>\n",
       "      <td>NaN</td>\n",
       "      <td>NaN</td>\n",
       "      <td>2017-07-28</td>\n",
       "      <td>&lt;a href=\"http://twitter.com/download/iphone\" r...</td>\n",
       "      <td>When you watch your owner call another dog a g...</td>\n",
       "      <td>https://twitter.com/dog_rates/status/890729181...</td>\n",
       "      <td>13.0</td>\n",
       "      <td>10</td>\n",
       "      <td>None</td>\n",
       "      <td>NaN</td>\n",
       "    </tr>\n",
       "    <tr>\n",
       "      <th>8</th>\n",
       "      <td>890609185150312448</td>\n",
       "      <td>NaN</td>\n",
       "      <td>NaN</td>\n",
       "      <td>2017-07-27</td>\n",
       "      <td>&lt;a href=\"http://twitter.com/download/iphone\" r...</td>\n",
       "      <td>This is Zoey. She doesn't want to be one of th...</td>\n",
       "      <td>https://twitter.com/dog_rates/status/890609185...</td>\n",
       "      <td>13.0</td>\n",
       "      <td>10</td>\n",
       "      <td>Zoey</td>\n",
       "      <td>NaN</td>\n",
       "    </tr>\n",
       "    <tr>\n",
       "      <th>9</th>\n",
       "      <td>890240255349198849</td>\n",
       "      <td>NaN</td>\n",
       "      <td>NaN</td>\n",
       "      <td>2017-07-26</td>\n",
       "      <td>&lt;a href=\"http://twitter.com/download/iphone\" r...</td>\n",
       "      <td>This is Cassie. She is a college pup. Studying...</td>\n",
       "      <td>https://twitter.com/dog_rates/status/890240255...</td>\n",
       "      <td>14.0</td>\n",
       "      <td>10</td>\n",
       "      <td>Cassie</td>\n",
       "      <td>doggo</td>\n",
       "    </tr>\n",
       "  </tbody>\n",
       "</table>\n",
       "</div>"
      ],
      "text/plain": [
       "             tweet_id  in_reply_to_status_id  in_reply_to_user_id  timestamp  \\\n",
       "0  892420643555336193                    NaN                  NaN 2017-08-01   \n",
       "1  892177421306343426                    NaN                  NaN 2017-08-01   \n",
       "2  891815181378084864                    NaN                  NaN 2017-07-31   \n",
       "3  891689557279858688                    NaN                  NaN 2017-07-30   \n",
       "4  891327558926688256                    NaN                  NaN 2017-07-29   \n",
       "5  891087950875897856                    NaN                  NaN 2017-07-29   \n",
       "6  890971913173991426                    NaN                  NaN 2017-07-28   \n",
       "7  890729181411237888                    NaN                  NaN 2017-07-28   \n",
       "8  890609185150312448                    NaN                  NaN 2017-07-27   \n",
       "9  890240255349198849                    NaN                  NaN 2017-07-26   \n",
       "\n",
       "                                              source  \\\n",
       "0  <a href=\"http://twitter.com/download/iphone\" r...   \n",
       "1  <a href=\"http://twitter.com/download/iphone\" r...   \n",
       "2  <a href=\"http://twitter.com/download/iphone\" r...   \n",
       "3  <a href=\"http://twitter.com/download/iphone\" r...   \n",
       "4  <a href=\"http://twitter.com/download/iphone\" r...   \n",
       "5  <a href=\"http://twitter.com/download/iphone\" r...   \n",
       "6  <a href=\"http://twitter.com/download/iphone\" r...   \n",
       "7  <a href=\"http://twitter.com/download/iphone\" r...   \n",
       "8  <a href=\"http://twitter.com/download/iphone\" r...   \n",
       "9  <a href=\"http://twitter.com/download/iphone\" r...   \n",
       "\n",
       "                                                text  \\\n",
       "0  This is Phineas. He's a mystical boy. Only eve...   \n",
       "1  This is Tilly. She's just checking pup on you....   \n",
       "2  This is Archie. He is a rare Norwegian Pouncin...   \n",
       "3  This is Darla. She commenced a snooze mid meal...   \n",
       "4  This is Franklin. He would like you to stop ca...   \n",
       "5  Here we have a majestic great white breaching ...   \n",
       "6  Meet Jax. He enjoys ice cream so much he gets ...   \n",
       "7  When you watch your owner call another dog a g...   \n",
       "8  This is Zoey. She doesn't want to be one of th...   \n",
       "9  This is Cassie. She is a college pup. Studying...   \n",
       "\n",
       "                                       expanded_urls  rating_numerator  \\\n",
       "0  https://twitter.com/dog_rates/status/892420643...              13.0   \n",
       "1  https://twitter.com/dog_rates/status/892177421...              13.0   \n",
       "2  https://twitter.com/dog_rates/status/891815181...              12.0   \n",
       "3  https://twitter.com/dog_rates/status/891689557...              13.0   \n",
       "4  https://twitter.com/dog_rates/status/891327558...              12.0   \n",
       "5  https://twitter.com/dog_rates/status/891087950...              13.0   \n",
       "6  https://gofundme.com/ydvmve-surgery-for-jax,ht...              13.0   \n",
       "7  https://twitter.com/dog_rates/status/890729181...              13.0   \n",
       "8  https://twitter.com/dog_rates/status/890609185...              13.0   \n",
       "9  https://twitter.com/dog_rates/status/890240255...              14.0   \n",
       "\n",
       "   rating_denominator      name   type  \n",
       "0                  10   Phineas    NaN  \n",
       "1                  10     Tilly    NaN  \n",
       "2                  10    Archie    NaN  \n",
       "3                  10     Darla    NaN  \n",
       "4                  10  Franklin    NaN  \n",
       "5                  10      None    NaN  \n",
       "6                  10       Jax    NaN  \n",
       "7                  10      None    NaN  \n",
       "8                  10      Zoey    NaN  \n",
       "9                  10    Cassie  doggo  "
      ]
     },
     "execution_count": 307,
     "metadata": {},
     "output_type": "execute_result"
    }
   ],
   "source": [
    "df_master.head(10)"
   ]
  },
  {
   "cell_type": "markdown",
   "metadata": {},
   "source": [
    "### 2 - Todas as tabelas devem ficar juntas"
   ]
  },
  {
   "cell_type": "markdown",
   "metadata": {},
   "source": [
    "#### Definição"
   ]
  },
  {
   "cell_type": "markdown",
   "metadata": {
    "heading_collapsed": true,
    "hidden": true
   },
   "source": [
    "### `todas as tabelas`: Juntar as 3 tabelas em uma só.  "
   ]
  },
  {
   "cell_type": "markdown",
   "metadata": {
    "heading_collapsed": true,
    "hidden": true
   },
   "source": [
<<<<<<< HEAD
    "#### Definição"
   ]
  },
  {
   "cell_type": "markdown",
   "metadata": {
    "ExecuteTime": {
     "end_time": "2019-02-09T06:16:57.776251Z",
     "start_time": "2019-02-09T06:16:57.734918Z"
    },
    "hidden": true
   },
   "source": [
    "Juntar as tabelas através de um join nas colunas ids"
   ]
  },
  {
   "cell_type": "markdown",
   "metadata": {
    "heading_collapsed": true,
    "hidden": true
   },
   "source": [
    "#### Código"
=======
    "Juntar as 3 tabelas em uma só. Retirar as colunas *id* e *timestamp*"
>>>>>>> 0e7f6456a4f8bd941fdd72bb32e5f9ef5e91893d
   ]
  },
  {
   "cell_type": "code",
<<<<<<< HEAD
   "execution_count": 6,
   "metadata": {
    "ExecuteTime": {
     "end_time": "2019-02-09T06:17:28.565202Z",
     "start_time": "2019-02-09T06:17:26.264375Z"
    },
    "hidden": true
   },
   "outputs": [
    {
     "ename": "NameError",
     "evalue": "name 'df_master' is not defined",
     "output_type": "error",
     "traceback": [
      "\u001b[1;31m---------------------------------------------------------------------------\u001b[0m",
      "\u001b[1;31mNameError\u001b[0m                                 Traceback (most recent call last)",
      "\u001b[1;32m<ipython-input-6-18313409c19a>\u001b[0m in \u001b[0;36m<module>\u001b[1;34m\u001b[0m\n\u001b[1;32m----> 1\u001b[1;33m \u001b[0mdf_master\u001b[0m \u001b[1;33m=\u001b[0m \u001b[0mdf_master\u001b[0m\u001b[1;33m.\u001b[0m\u001b[0mmerge\u001b[0m\u001b[1;33m(\u001b[0m\u001b[0mtweets_json\u001b[0m\u001b[1;33m,\u001b[0m \u001b[0mleft_on\u001b[0m\u001b[1;33m=\u001b[0m\u001b[1;34m\"tweet_id\"\u001b[0m\u001b[1;33m,\u001b[0m \u001b[0mright_on\u001b[0m\u001b[1;33m=\u001b[0m\u001b[1;34m\"id\"\u001b[0m\u001b[1;33m)\u001b[0m\u001b[1;33m\u001b[0m\u001b[1;33m\u001b[0m\u001b[0m\n\u001b[0m\u001b[0;32m      2\u001b[0m \u001b[0mdf_master\u001b[0m \u001b[1;33m=\u001b[0m \u001b[0mdf_master\u001b[0m\u001b[1;33m.\u001b[0m\u001b[0mmerge\u001b[0m\u001b[1;33m(\u001b[0m\u001b[0mimagens\u001b[0m\u001b[1;33m,\u001b[0m \u001b[0mon\u001b[0m\u001b[1;33m=\u001b[0m\u001b[1;34m\"tweet_id\"\u001b[0m\u001b[1;33m)\u001b[0m\u001b[1;33m\u001b[0m\u001b[1;33m\u001b[0m\u001b[0m\n\u001b[0;32m      3\u001b[0m \u001b[0mdf_master\u001b[0m\u001b[1;33m.\u001b[0m\u001b[0mdrop\u001b[0m\u001b[1;33m(\u001b[0m\u001b[0mlabels\u001b[0m\u001b[1;33m=\u001b[0m\u001b[1;33m[\u001b[0m\u001b[1;34m\"id\"\u001b[0m\u001b[1;33m,\u001b[0m\u001b[1;34m\"timestamp\"\u001b[0m\u001b[1;33m]\u001b[0m\u001b[1;33m,\u001b[0m\u001b[0maxis\u001b[0m\u001b[1;33m=\u001b[0m\u001b[1;36m1\u001b[0m\u001b[1;33m,\u001b[0m\u001b[0minplace\u001b[0m\u001b[1;33m=\u001b[0m\u001b[1;32mTrue\u001b[0m\u001b[1;33m)\u001b[0m\u001b[1;33m\u001b[0m\u001b[1;33m\u001b[0m\u001b[0m\n",
      "\u001b[1;31mNameError\u001b[0m: name 'df_master' is not defined"
     ]
    }
   ],
=======
   "execution_count": 308,
   "metadata": {},
   "outputs": [],
>>>>>>> 0e7f6456a4f8bd941fdd72bb32e5f9ef5e91893d
   "source": [
    "df_master = df_master.merge(tweets_json, left_on=\"tweet_id\", right_on=\"id\")\n",
    "df_master = df_master.merge(imagens, on=\"tweet_id\")\n",
    "df_master.drop(labels=[\"id\",\"timestamp\"],axis=1,inplace=True)"
   ]
  },
  {
   "cell_type": "markdown",
   "metadata": {
    "heading_collapsed": true,
    "hidden": true
   },
   "source": [
    "#### Teste"
   ]
  },
  {
   "cell_type": "code",
<<<<<<< HEAD
   "execution_count": 104,
   "metadata": {
    "hidden": true
   },
=======
   "execution_count": 309,
   "metadata": {},
>>>>>>> 0e7f6456a4f8bd941fdd72bb32e5f9ef5e91893d
   "outputs": [
    {
     "name": "stdout",
     "output_type": "stream",
     "text": [
      "<class 'pandas.core.frame.DataFrame'>\n",
      "Int64Index: 1977 entries, 0 to 1976\n",
      "Data columns (total 24 columns):\n",
      "tweet_id                 1977 non-null int64\n",
      "in_reply_to_status_id    23 non-null float64\n",
      "in_reply_to_user_id      23 non-null float64\n",
      "source                   1977 non-null object\n",
      "text                     1977 non-null object\n",
      "expanded_urls            1977 non-null object\n",
      "rating_numerator         1977 non-null float64\n",
      "rating_denominator       1977 non-null int64\n",
      "name                     1917 non-null object\n",
      "type                     321 non-null object\n",
      "created_at               1977 non-null datetime64[ns]\n",
      "favorite_count           1977 non-null int64\n",
      "retweet_count            1977 non-null int64\n",
      "jpg_url                  1977 non-null object\n",
      "img_num                  1977 non-null int64\n",
      "p1                       1977 non-null object\n",
      "p1_conf                  1977 non-null float64\n",
      "p1_dog                   1977 non-null bool\n",
      "p2                       1977 non-null object\n",
      "p2_conf                  1977 non-null float64\n",
      "p2_dog                   1977 non-null bool\n",
      "p3                       1977 non-null object\n",
      "p3_conf                  1977 non-null float64\n",
      "p3_dog                   1977 non-null bool\n",
      "dtypes: bool(3), datetime64[ns](1), float64(6), int64(5), object(9)\n",
      "memory usage: 345.6+ KB\n"
     ]
    }
   ],
   "source": [
    "df_master.info()"
   ]
  },
  {
   "cell_type": "code",
<<<<<<< HEAD
   "execution_count": 105,
   "metadata": {
    "hidden": true
   },
=======
   "execution_count": 310,
   "metadata": {},
>>>>>>> 0e7f6456a4f8bd941fdd72bb32e5f9ef5e91893d
   "outputs": [
    {
     "data": {
      "text/html": [
       "<div>\n",
       "<style scoped>\n",
       "    .dataframe tbody tr th:only-of-type {\n",
       "        vertical-align: middle;\n",
       "    }\n",
       "\n",
       "    .dataframe tbody tr th {\n",
       "        vertical-align: top;\n",
       "    }\n",
       "\n",
       "    .dataframe thead th {\n",
       "        text-align: right;\n",
       "    }\n",
       "</style>\n",
       "<table border=\"1\" class=\"dataframe\">\n",
       "  <thead>\n",
       "    <tr style=\"text-align: right;\">\n",
       "      <th></th>\n",
       "      <th>tweet_id</th>\n",
       "      <th>in_reply_to_status_id</th>\n",
       "      <th>in_reply_to_user_id</th>\n",
       "      <th>source</th>\n",
       "      <th>text</th>\n",
       "      <th>expanded_urls</th>\n",
       "      <th>rating_numerator</th>\n",
       "      <th>rating_denominator</th>\n",
       "      <th>name</th>\n",
       "      <th>type</th>\n",
       "      <th>...</th>\n",
       "      <th>img_num</th>\n",
       "      <th>p1</th>\n",
       "      <th>p1_conf</th>\n",
       "      <th>p1_dog</th>\n",
       "      <th>p2</th>\n",
       "      <th>p2_conf</th>\n",
       "      <th>p2_dog</th>\n",
       "      <th>p3</th>\n",
       "      <th>p3_conf</th>\n",
       "      <th>p3_dog</th>\n",
       "    </tr>\n",
       "  </thead>\n",
       "  <tbody>\n",
       "    <tr>\n",
       "      <th>0</th>\n",
       "      <td>892420643555336193</td>\n",
       "      <td>NaN</td>\n",
       "      <td>NaN</td>\n",
       "      <td>&lt;a href=\"http://twitter.com/download/iphone\" r...</td>\n",
       "      <td>This is Phineas. He's a mystical boy. Only eve...</td>\n",
       "      <td>https://twitter.com/dog_rates/status/892420643...</td>\n",
       "      <td>13.0</td>\n",
       "      <td>10</td>\n",
       "      <td>Phineas</td>\n",
       "      <td>NaN</td>\n",
       "      <td>...</td>\n",
       "      <td>1</td>\n",
       "      <td>orange</td>\n",
       "      <td>0.097049</td>\n",
       "      <td>False</td>\n",
       "      <td>bagel</td>\n",
       "      <td>0.085851</td>\n",
       "      <td>False</td>\n",
       "      <td>banana</td>\n",
       "      <td>0.076110</td>\n",
       "      <td>False</td>\n",
       "    </tr>\n",
       "    <tr>\n",
       "      <th>1</th>\n",
       "      <td>892177421306343426</td>\n",
       "      <td>NaN</td>\n",
       "      <td>NaN</td>\n",
       "      <td>&lt;a href=\"http://twitter.com/download/iphone\" r...</td>\n",
       "      <td>This is Tilly. She's just checking pup on you....</td>\n",
       "      <td>https://twitter.com/dog_rates/status/892177421...</td>\n",
       "      <td>13.0</td>\n",
       "      <td>10</td>\n",
       "      <td>Tilly</td>\n",
       "      <td>NaN</td>\n",
       "      <td>...</td>\n",
       "      <td>1</td>\n",
       "      <td>Chihuahua</td>\n",
       "      <td>0.323581</td>\n",
       "      <td>True</td>\n",
       "      <td>Pekinese</td>\n",
       "      <td>0.090647</td>\n",
       "      <td>True</td>\n",
       "      <td>papillon</td>\n",
       "      <td>0.068957</td>\n",
       "      <td>True</td>\n",
       "    </tr>\n",
       "    <tr>\n",
       "      <th>2</th>\n",
       "      <td>891815181378084864</td>\n",
       "      <td>NaN</td>\n",
       "      <td>NaN</td>\n",
       "      <td>&lt;a href=\"http://twitter.com/download/iphone\" r...</td>\n",
       "      <td>This is Archie. He is a rare Norwegian Pouncin...</td>\n",
       "      <td>https://twitter.com/dog_rates/status/891815181...</td>\n",
       "      <td>12.0</td>\n",
       "      <td>10</td>\n",
       "      <td>Archie</td>\n",
       "      <td>NaN</td>\n",
       "      <td>...</td>\n",
       "      <td>1</td>\n",
       "      <td>Chihuahua</td>\n",
       "      <td>0.716012</td>\n",
       "      <td>True</td>\n",
       "      <td>malamute</td>\n",
       "      <td>0.078253</td>\n",
       "      <td>True</td>\n",
       "      <td>kelpie</td>\n",
       "      <td>0.031379</td>\n",
       "      <td>True</td>\n",
       "    </tr>\n",
       "  </tbody>\n",
       "</table>\n",
       "<p>3 rows × 24 columns</p>\n",
       "</div>"
      ],
      "text/plain": [
       "             tweet_id  in_reply_to_status_id  in_reply_to_user_id  \\\n",
       "0  892420643555336193                    NaN                  NaN   \n",
       "1  892177421306343426                    NaN                  NaN   \n",
       "2  891815181378084864                    NaN                  NaN   \n",
       "\n",
       "                                              source  \\\n",
       "0  <a href=\"http://twitter.com/download/iphone\" r...   \n",
       "1  <a href=\"http://twitter.com/download/iphone\" r...   \n",
       "2  <a href=\"http://twitter.com/download/iphone\" r...   \n",
       "\n",
       "                                                text  \\\n",
       "0  This is Phineas. He's a mystical boy. Only eve...   \n",
       "1  This is Tilly. She's just checking pup on you....   \n",
       "2  This is Archie. He is a rare Norwegian Pouncin...   \n",
       "\n",
       "                                       expanded_urls  rating_numerator  \\\n",
       "0  https://twitter.com/dog_rates/status/892420643...              13.0   \n",
       "1  https://twitter.com/dog_rates/status/892177421...              13.0   \n",
       "2  https://twitter.com/dog_rates/status/891815181...              12.0   \n",
       "\n",
       "   rating_denominator     name type   ...   img_num         p1   p1_conf  \\\n",
       "0                  10  Phineas  NaN   ...         1     orange  0.097049   \n",
       "1                  10    Tilly  NaN   ...         1  Chihuahua  0.323581   \n",
       "2                  10   Archie  NaN   ...         1  Chihuahua  0.716012   \n",
       "\n",
       "  p1_dog        p2   p2_conf  p2_dog        p3   p3_conf  p3_dog  \n",
       "0  False     bagel  0.085851   False    banana  0.076110   False  \n",
       "1   True  Pekinese  0.090647    True  papillon  0.068957    True  \n",
       "2   True  malamute  0.078253    True    kelpie  0.031379    True  \n",
       "\n",
       "[3 rows x 24 columns]"
      ]
     },
     "execution_count": 310,
     "metadata": {},
     "output_type": "execute_result"
    }
   ],
   "source": [
    "#teste\n",
    "df_master.head(3)"
   ]
<<<<<<< HEAD
=======
  },
  {
   "cell_type": "code",
   "execution_count": 312,
   "metadata": {},
   "outputs": [],
   "source": [
    "df_master.to_csv(\"twitter_archive_master.csv\")"
   ]
  },
  {
   "cell_type": "code",
   "execution_count": null,
   "metadata": {},
   "outputs": [],
   "source": []
>>>>>>> 0e7f6456a4f8bd941fdd72bb32e5f9ef5e91893d
  }
 ],
 "metadata": {
  "kernelspec": {
   "display_name": "Python 3",
   "language": "python",
   "name": "python3"
  },
  "language_info": {
   "codemirror_mode": {
    "name": "ipython",
    "version": 3
   },
   "file_extension": ".py",
   "mimetype": "text/x-python",
   "name": "python",
   "nbconvert_exporter": "python",
   "pygments_lexer": "ipython3",
<<<<<<< HEAD
   "version": "3.6.7"
  },
  "toc": {
   "base_numbering": 1,
   "nav_menu": {},
   "number_sections": true,
   "sideBar": true,
   "skip_h1_title": false,
   "title_cell": "Table of Contents",
   "title_sidebar": "Contents",
   "toc_cell": true,
   "toc_position": {},
   "toc_section_display": true,
   "toc_window_display": false
=======
   "version": "3.7.1"
>>>>>>> 0e7f6456a4f8bd941fdd72bb32e5f9ef5e91893d
  }
 },
 "nbformat": 4,
 "nbformat_minor": 2
}
